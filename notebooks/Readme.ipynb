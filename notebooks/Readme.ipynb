{
 "cells": [
  {
   "cell_type": "code",
   "metadata": {
    "collapsed": true,
    "ExecuteTime": {
     "end_time": "2024-08-30T18:48:20.962232Z",
     "start_time": "2024-08-30T18:48:20.770171Z"
    }
   },
   "source": [
    "import org.mikrograd.diff.Neuron\n",
    "import org.mikrograd.diff.Value\n",
    "import org.mikrograd.utils.drawDot\n",
    "\n",
    "val nn = Neuron(2)    \n",
    "val x = listOf(Value(1.0), Value(-2.0))\n",
    "val y = nn(x)\n",
    "drawDot(y).toFile(\"neuron.png\")\n"
   ],
   "outputs": [],
   "execution_count": 3
  },
  {
   "metadata": {
    "ExecuteTime": {
     "end_time": "2024-08-30T18:48:33.268995Z",
     "start_time": "2024-08-30T18:48:33.186012Z"
    }
   },
   "cell_type": "code",
   "source": [
    "nn.parameters()\n",
    "    "
   ],
   "outputs": [
    {
     "data": {
      "text/plain": [
       "[Value(data=-0.44385286293639625, grad=0.0, op=, label='_w0'), Value(data=0.11393944505920062, grad=0.0, op=, label='_w1'), Value(data=-0.05435793880120432, grad=0.0, op=, label='-b')]"
      ]
     },
     "execution_count": 5,
     "metadata": {},
     "output_type": "execute_result"
    }
   ],
   "execution_count": 5
  },
  {
   "metadata": {
    "ExecuteTime": {
     "end_time": "2024-08-30T18:56:55.865846Z",
     "start_time": "2024-08-30T18:56:55.794795Z"
    }
   },
   "cell_type": "code",
   "source": [
    "nn.parameters()[0].data = 0.2355\n",
    "nn.parameters()[1].data = 0.0665\n",
    "nn.parameters()[2].data = -0.0"
   ],
   "outputs": [],
   "execution_count": 19
  },
  {
   "metadata": {
    "ExecuteTime": {
     "end_time": "2024-08-30T18:56:56.710279Z",
     "start_time": "2024-08-30T18:56:56.671205Z"
    }
   },
   "cell_type": "code",
   "source": "nn.parameters()\n",
   "outputs": [
    {
     "data": {
      "text/plain": [
       "[Value(data=0.2355, grad=0.0, op=, label='_w0'), Value(data=0.0665, grad=0.0, op=, label='_w1'), Value(data=-0.0, grad=0.0, op=, label='-b')]"
      ]
     },
     "execution_count": 20,
     "metadata": {},
     "output_type": "execute_result"
    }
   ],
   "execution_count": 20
  },
  {
   "metadata": {
    "ExecuteTime": {
     "end_time": "2024-08-30T18:56:58.253630Z",
     "start_time": "2024-08-30T18:56:58.207993Z"
    }
   },
   "cell_type": "code",
   "source": [
    "val y = nn(x)\n",
    "drawDot(y).toFile(\"neuron.dot\")\n"
   ],
   "outputs": [],
   "execution_count": 21
  },
  {
   "metadata": {},
   "cell_type": "code",
   "outputs": [],
   "execution_count": null,
   "source": ""
  }
 ],
 "metadata": {
  "kernelspec": {
   "display_name": "Kotlin",
   "language": "kotlin",
   "name": "kotlin"
  },
  "language_info": {
   "name": "kotlin",
   "version": "1.9.23",
   "mimetype": "text/x-kotlin",
   "file_extension": ".kt",
   "pygments_lexer": "kotlin",
   "codemirror_mode": "text/x-kotlin",
   "nbconvert_exporter": ""
  },
  "ktnbPluginMetadata": {
   "projectDependencies": [
    "miKrograd.core.commonMain",
    "miKrograd.core.jvmMain",
    "miKrograd.dot-poet.commonMain",
    "miKrograd.dot-poet.jvmMain"
   ]
  }
 },
 "nbformat": 4,
 "nbformat_minor": 0
}
