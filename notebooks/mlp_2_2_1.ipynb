{
 "cells": [
  {
   "cell_type": "code",
   "metadata": {
    "collapsed": true,
    "ExecuteTime": {
     "end_time": "2024-10-08T19:48:04.718365Z",
     "start_time": "2024-10-08T19:48:01.128856Z"
    }
   },
   "source": [
    "USE {\n",
    "    repositories {\n",
    "        maven(\"https://repsy.io/mvn/yeicor/github-public\")\n",
    "    }\n",
    "\n",
    "    dependencies {\n",
    "        implementation(\"com.github.yeicor:kraphviz:1.0.0\")\n",
    "    }\n",
    "}"
   ],
   "outputs": [],
   "execution_count": 1
  },
  {
   "metadata": {
    "ExecuteTime": {
     "end_time": "2024-10-08T19:48:04.768579Z",
     "start_time": "2024-10-08T19:48:04.729621Z"
    }
   },
   "cell_type": "code",
   "source": [
    "import org.mikrograd.diff.MLP\n",
    "import org.mikrograd.diff.Value\n",
    "import org.mikrograd.diff.minus"
   ],
   "outputs": [],
   "execution_count": 2
  },
  {
   "metadata": {},
   "cell_type": "markdown",
   "source": "### Network parameters"
  },
  {
   "metadata": {},
   "cell_type": "markdown",
   "source": "### Weights"
  },
  {
   "metadata": {
    "ExecuteTime": {
     "end_time": "2024-10-08T19:48:04.884065Z",
     "start_time": "2024-10-08T19:48:04.774991Z"
    }
   },
   "cell_type": "code",
   "source": [
    "val w1 = Value(0.15)\n",
    "w1.label = \"w1\"\n",
    "val w2 = Value(0.2)\n",
    "w2.label = \"w2\"\n",
    "val w3 = Value(0.25)\n",
    "w3.label = \"w3\"\n",
    "val w4 = Value(0.3)\n",
    "w4.label = \"w4\"\n",
    "val w5 = Value(0.4)\n",
    "w5.label = \"w5\"\n",
    "val w6 = Value(0.45)\n",
    "w6.label = \"w6\""
   ],
   "outputs": [],
   "execution_count": 3
  },
  {
   "metadata": {},
   "cell_type": "markdown",
   "source": "### Input values and output"
  },
  {
   "metadata": {
    "ExecuteTime": {
     "end_time": "2024-10-06T21:42:04.559524Z",
     "start_time": "2024-10-06T21:42:04.517655Z"
    }
   },
   "cell_type": "code",
   "source": [
    "val x1 = Value(0.05)\n",
    "x1.label = \"x1\"\n",
    "val x2 = Value(0.1)\n",
    "x2.label = \"x2\"\n",
    "val y = Value(0.01)\n",
    "y.label = \"y\""
   ],
   "outputs": [],
   "execution_count": 5
  },
  {
   "metadata": {},
   "cell_type": "markdown",
   "source": "## Feed forward"
  },
  {
   "metadata": {
    "ExecuteTime": {
     "end_time": "2024-10-06T21:42:05.716279Z",
     "start_time": "2024-10-06T21:42:05.655514Z"
    }
   },
   "cell_type": "code",
   "source": [
    "val x1w1 = x1*w1\n",
    "x1w1.label = \"x1*w1\"\n",
    "val x2w2 = x2*w2\n",
    "x2w2.label = \"x2*w2\"\n",
    "val z1 = x1w1 +x2w2\n",
    "z1.label = \"z1\"\n",
    "\n",
    "val x1w3 = x1*w3\n",
    "x1w3.label = \"x1*w3\"\n",
    "val x2w4 = x2*w4\n",
    "x2w4.label = \"x2*w4\"\n",
    "val z2 = x1w3 + x2w4\n",
    "z2.label = \"z2\""
   ],
   "outputs": [],
   "execution_count": 6
  },
  {
   "metadata": {
    "ExecuteTime": {
     "end_time": "2024-10-06T21:42:06.460221Z",
     "start_time": "2024-10-06T21:42:06.417222Z"
    }
   },
   "cell_type": "code",
   "source": [
    "val h1 = z1.sigmoid()\n",
    "val h2 = z2.sigmoid()"
   ],
   "outputs": [],
   "execution_count": 7
  },
  {
   "metadata": {
    "ExecuteTime": {
     "end_time": "2024-10-06T21:42:07.080201Z",
     "start_time": "2024-10-06T21:42:07.044328Z"
    }
   },
   "cell_type": "code",
   "source": "h1",
   "outputs": [
    {
     "data": {
      "text/plain": [
       "Value(data=0.5068745667645342, grad=0.0, op=sigmoid, label='sigmoid(z1)')"
      ]
     },
     "execution_count": 8,
     "metadata": {},
     "output_type": "execute_result"
    }
   ],
   "execution_count": 8
  },
  {
   "metadata": {
    "ExecuteTime": {
     "end_time": "2024-10-06T21:42:07.579309Z",
     "start_time": "2024-10-06T21:42:07.543635Z"
    }
   },
   "cell_type": "code",
   "source": "h2",
   "outputs": [
    {
     "data": {
      "text/plain": [
       "Value(data=0.5106234010049637, grad=0.0, op=sigmoid, label='sigmoid(z2)')"
      ]
     },
     "execution_count": 9,
     "metadata": {},
     "output_type": "execute_result"
    }
   ],
   "execution_count": 9
  },
  {
   "metadata": {
    "ExecuteTime": {
     "end_time": "2024-10-06T21:42:08.793470Z",
     "start_time": "2024-10-06T21:42:08.754990Z"
    }
   },
   "cell_type": "code",
   "source": [
    "val h1w5 = h1*w5\n",
    "h1w5.label = \"h1*w5\"\n",
    "val h2w6 = h2*w6\n",
    "h2w6.label = \"h2*w6\"\n",
    "\n",
    "val z_out = h1w5 + h2w6\n",
    "z_out.label = \"z_out\""
   ],
   "outputs": [],
   "execution_count": 10
  },
  {
   "metadata": {
    "ExecuteTime": {
     "end_time": "2024-10-06T21:42:10.128748Z",
     "start_time": "2024-10-06T21:42:10.098985Z"
    }
   },
   "cell_type": "code",
   "source": "val y_ = z_out.sigmoid()",
   "outputs": [],
   "execution_count": 11
  },
  {
   "metadata": {
    "ExecuteTime": {
     "end_time": "2024-10-06T21:42:10.605774Z",
     "start_time": "2024-10-06T21:42:10.583675Z"
    }
   },
   "cell_type": "code",
   "source": "y_",
   "outputs": [
    {
     "data": {
      "text/plain": [
       "Value(data=0.606477732206728, grad=0.0, op=sigmoid, label='sigmoid(z_out)')"
      ]
     },
     "execution_count": 12,
     "metadata": {},
     "output_type": "execute_result"
    }
   ],
   "execution_count": 12
  },
  {
   "metadata": {},
   "cell_type": "markdown",
   "source": "## Loss"
  },
  {
   "metadata": {
    "ExecuteTime": {
     "end_time": "2024-10-06T21:42:12.367569Z",
     "start_time": "2024-10-06T21:42:12.329017Z"
    }
   },
   "cell_type": "code",
   "source": "val loss = ((y - y_).pow(2.0)) / 2",
   "outputs": [],
   "execution_count": 13
  },
  {
   "metadata": {
    "ExecuteTime": {
     "end_time": "2024-10-06T21:42:12.972153Z",
     "start_time": "2024-10-06T21:42:12.948143Z"
    }
   },
   "cell_type": "code",
   "source": "loss.backward()",
   "outputs": [],
   "execution_count": 14
  },
  {
   "metadata": {
    "ExecuteTime": {
     "end_time": "2024-10-06T21:42:13.658494Z",
     "start_time": "2024-10-06T21:42:13.636745Z"
    }
   },
   "cell_type": "code",
   "source": "y_",
   "outputs": [
    {
     "data": {
      "text/plain": [
       "Value(data=0.606477732206728, grad=0.596477732206728, op=sigmoid, label='sigmoid(z_out)')"
      ]
     },
     "execution_count": 15,
     "metadata": {},
     "output_type": "execute_result"
    }
   ],
   "execution_count": 15
  },
  {
   "metadata": {},
   "cell_type": "markdown",
   "source": "## DAG visualization"
  },
  {
   "metadata": {
    "ExecuteTime": {
     "end_time": "2024-10-06T21:42:35.705075Z",
     "start_time": "2024-10-06T21:42:35.683111Z"
    }
   },
   "cell_type": "code",
   "source": [
    "import java.io.File\n",
    "import org.mikrograd.utils.drawDot"
   ],
   "outputs": [],
   "execution_count": 17
  },
  {
   "metadata": {
    "ExecuteTime": {
     "end_time": "2024-10-06T21:45:09.348219Z",
     "start_time": "2024-10-06T21:45:08.447041Z"
    }
   },
   "cell_type": "code",
   "source": [
    "val dotStr = drawDot(loss, withGradient = true, gradLabel = \"Grad\", valueLabel = \"Wert\").render()\n",
    "\n",
    "val svg = com.github.yeicor.kraphviz.Kraphviz().render(dotStr)\n",
    "File(\"mlp_2_2_1.svg\").writeText(svg)\n",
    "MIME(\"image/svg+xml\" to svg)"
   ],
   "outputs": [
    {
     "data": {
      "image/svg+xml": "<?xml version=\"1.0\" encoding=\"UTF-8\" standalone=\"no\"?>\n<!DOCTYPE svg PUBLIC \"-//W3C//DTD SVG 1.1//EN\"\n \"http://www.w3.org/Graphics/SVG/1.1/DTD/svg11.dtd\">\n<!-- Generated by graphviz version 8.0.5 (20230430.1635)\n -->\n<!-- Pages: 1 -->\n<svg width=\"2307pt\" height=\"548pt\"\n viewBox=\"0.00 0.00 2307.07 548.40\" xmlns=\"http://www.w3.org/2000/svg\" xmlns:xlink=\"http://www.w3.org/1999/xlink\">\n<g id=\"graph0\" class=\"graph\" transform=\"scale(1 1) rotate(0) translate(4 544.4)\">\n<polygon fill=\"white\" stroke=\"none\" points=\"-4,4 -4,-544.4 2303.07,-544.4 2303.07,4 -4,4\"/>\n<!-- 1336622296 -->\n<g id=\"node1\" class=\"node\">\n<title>1336622296</title>\n<polygon fill=\"none\" stroke=\"black\" points=\"2213.09,-137.5 2213.09,-211.9 2299.07,-211.9 2299.07,-137.5 2213.09,-137.5\"/>\n<text text-anchor=\"middle\" x=\"2256.08\" y=\"-195.3\" font-family=\"Times,serif\" font-size=\"14.00\"> </text>\n<polyline fill=\"none\" stroke=\"black\" points=\"2213.09,-187.1 2299.07,-187.1\"/>\n<text text-anchor=\"middle\" x=\"2256.08\" y=\"-170.5\" font-family=\"Times,serif\" font-size=\"14.00\">Wert 0,1779</text>\n<polyline fill=\"none\" stroke=\"black\" points=\"2213.09,-162.3 2299.07,-162.3\"/>\n<text text-anchor=\"middle\" x=\"2256.08\" y=\"-145.7\" font-family=\"Times,serif\" font-size=\"14.00\">Grad 1,0000</text>\n</g>\n<!-- 1336622296* -->\n<g id=\"node2\" class=\"node\">\n<title>1336622296*</title>\n<ellipse fill=\"none\" stroke=\"black\" cx=\"2150.09\" cy=\"-174.7\" rx=\"27\" ry=\"18\"/>\n<text text-anchor=\"middle\" x=\"2150.09\" y=\"-170.5\" font-family=\"Times,serif\" font-size=\"14.00\">*</text>\n</g>\n<!-- 1336622296*&#45;&gt;1336622296 -->\n<g id=\"edge1\" class=\"edge\">\n<title>1336622296*&#45;&gt;1336622296</title>\n<path fill=\"none\" stroke=\"black\" d=\"M2177.33,-174.7C2185.03,-174.7 2193.74,-174.7 2202.47,-174.7\"/>\n<polygon fill=\"black\" stroke=\"black\" points=\"2202.46,-178.2 2212.46,-174.7 2202.46,-171.2 2202.46,-178.2\"/>\n</g>\n<!-- 895724662 -->\n<g id=\"node3\" class=\"node\">\n<title>895724662</title>\n<polygon fill=\"none\" stroke=\"black\" points=\"2001.1,-184.5 2001.1,-258.9 2087.09,-258.9 2087.09,-184.5 2001.1,-184.5\"/>\n<text text-anchor=\"middle\" x=\"2044.09\" y=\"-242.3\" font-family=\"Times,serif\" font-size=\"14.00\"> </text>\n<polyline fill=\"none\" stroke=\"black\" points=\"2001.1,-234.1 2087.09,-234.1\"/>\n<text text-anchor=\"middle\" x=\"2044.09\" y=\"-217.5\" font-family=\"Times,serif\" font-size=\"14.00\">Wert 0,3558</text>\n<polyline fill=\"none\" stroke=\"black\" points=\"2001.1,-209.3 2087.09,-209.3\"/>\n<text text-anchor=\"middle\" x=\"2044.09\" y=\"-192.7\" font-family=\"Times,serif\" font-size=\"14.00\">Grad 0,5000</text>\n</g>\n<!-- 895724662&#45;&gt;1336622296* -->\n<g id=\"edge18\" class=\"edge\">\n<title>895724662&#45;&gt;1336622296*</title>\n<path fill=\"none\" stroke=\"black\" d=\"M2086.79,-202.85C2096.92,-198.28 2107.59,-193.46 2117.18,-189.12\"/>\n<polygon fill=\"black\" stroke=\"black\" points=\"2118.41,-191.95 2126.08,-184.64 2115.53,-185.57 2118.41,-191.95\"/>\n</g>\n<!-- 895724662^2.0 -->\n<g id=\"node4\" class=\"node\">\n<title>895724662^2.0</title>\n<ellipse fill=\"none\" stroke=\"black\" cx=\"1934.24\" cy=\"-221.7\" rx=\"27.64\" ry=\"18\"/>\n<text text-anchor=\"middle\" x=\"1934.24\" y=\"-217.5\" font-family=\"Times,serif\" font-size=\"14.00\">^2.0</text>\n</g>\n<!-- 895724662^2.0&#45;&gt;895724662 -->\n<g id=\"edge2\" class=\"edge\">\n<title>895724662^2.0&#45;&gt;895724662</title>\n<path fill=\"none\" stroke=\"black\" d=\"M1962.18,-221.7C1970.79,-221.7 1980.64,-221.7 1990.44,-221.7\"/>\n<polygon fill=\"black\" stroke=\"black\" points=\"1990.4,-225.2 2000.4,-221.7 1990.4,-218.2 1990.4,-225.2\"/>\n</g>\n<!-- 232126471 -->\n<g id=\"node5\" class=\"node\">\n<title>232126471</title>\n<polygon fill=\"none\" stroke=\"black\" points=\"1776.74,-184.5 1776.74,-258.9 1867.39,-258.9 1867.39,-184.5 1776.74,-184.5\"/>\n<text text-anchor=\"middle\" x=\"1822.07\" y=\"-242.3\" font-family=\"Times,serif\" font-size=\"14.00\"> </text>\n<polyline fill=\"none\" stroke=\"black\" points=\"1776.74,-234.1 1867.39,-234.1\"/>\n<text text-anchor=\"middle\" x=\"1822.07\" y=\"-217.5\" font-family=\"Times,serif\" font-size=\"14.00\">Wert &#45;0,5965</text>\n<polyline fill=\"none\" stroke=\"black\" points=\"1776.74,-209.3 1867.39,-209.3\"/>\n<text text-anchor=\"middle\" x=\"1822.07\" y=\"-192.7\" font-family=\"Times,serif\" font-size=\"14.00\">Grad &#45;0,5965</text>\n</g>\n<!-- 232126471&#45;&gt;895724662^2.0 -->\n<g id=\"edge19\" class=\"edge\">\n<title>232126471&#45;&gt;895724662^2.0</title>\n<path fill=\"none\" stroke=\"black\" d=\"M1867.24,-221.7C1876.51,-221.7 1886.2,-221.7 1895.21,-221.7\"/>\n<polygon fill=\"black\" stroke=\"black\" points=\"1895.18,-225.2 1905.18,-221.7 1895.18,-218.2 1895.18,-225.2\"/>\n</g>\n<!-- 232126471+ -->\n<g id=\"node6\" class=\"node\">\n<title>232126471+</title>\n<ellipse fill=\"none\" stroke=\"black\" cx=\"1713.74\" cy=\"-221.7\" rx=\"27\" ry=\"18\"/>\n<text text-anchor=\"middle\" x=\"1713.74\" y=\"-217.5\" font-family=\"Times,serif\" font-size=\"14.00\">+</text>\n</g>\n<!-- 232126471+&#45;&gt;232126471 -->\n<g id=\"edge3\" class=\"edge\">\n<title>232126471+&#45;&gt;232126471</title>\n<path fill=\"none\" stroke=\"black\" d=\"M1741.02,-221.7C1748.63,-221.7 1757.24,-221.7 1765.92,-221.7\"/>\n<polygon fill=\"black\" stroke=\"black\" points=\"1765.88,-225.2 1775.88,-221.7 1765.88,-218.2 1765.88,-225.2\"/>\n</g>\n<!-- 1230404213 -->\n<g id=\"node7\" class=\"node\">\n<title>1230404213</title>\n<polygon fill=\"none\" stroke=\"black\" points=\"1560.09,-231.5 1560.09,-305.9 1650.74,-305.9 1650.74,-231.5 1560.09,-231.5\"/>\n<text text-anchor=\"middle\" x=\"1605.42\" y=\"-289.3\" font-family=\"Times,serif\" font-size=\"14.00\">y</text>\n<polyline fill=\"none\" stroke=\"black\" points=\"1560.09,-281.1 1650.74,-281.1\"/>\n<text text-anchor=\"middle\" x=\"1605.42\" y=\"-264.5\" font-family=\"Times,serif\" font-size=\"14.00\">Wert 0,0100</text>\n<polyline fill=\"none\" stroke=\"black\" points=\"1560.09,-256.3 1650.74,-256.3\"/>\n<text text-anchor=\"middle\" x=\"1605.42\" y=\"-239.7\" font-family=\"Times,serif\" font-size=\"14.00\">Grad &#45;0,5965</text>\n</g>\n<!-- 1230404213&#45;&gt;232126471+ -->\n<g id=\"edge20\" class=\"edge\">\n<title>1230404213&#45;&gt;232126471+</title>\n<path fill=\"none\" stroke=\"black\" d=\"M1650.58,-249.18C1660.72,-244.69 1671.31,-240.01 1680.82,-235.81\"/>\n<polygon fill=\"black\" stroke=\"black\" points=\"1681.9,-238.72 1689.64,-231.47 1679.07,-232.31 1681.9,-238.72\"/>\n</g>\n<!-- 1594741371 -->\n<g id=\"node8\" class=\"node\">\n<title>1594741371</title>\n<polygon fill=\"none\" stroke=\"black\" points=\"1560.09,-138.5 1560.09,-212.9 1650.74,-212.9 1650.74,-138.5 1560.09,-138.5\"/>\n<text text-anchor=\"middle\" x=\"1605.42\" y=\"-196.3\" font-family=\"Times,serif\" font-size=\"14.00\"> </text>\n<polyline fill=\"none\" stroke=\"black\" points=\"1560.09,-188.1 1650.74,-188.1\"/>\n<text text-anchor=\"middle\" x=\"1605.42\" y=\"-171.5\" font-family=\"Times,serif\" font-size=\"14.00\">Wert &#45;0,6065</text>\n<polyline fill=\"none\" stroke=\"black\" points=\"1560.09,-163.3 1650.74,-163.3\"/>\n<text text-anchor=\"middle\" x=\"1605.42\" y=\"-146.7\" font-family=\"Times,serif\" font-size=\"14.00\">Grad &#45;0,5965</text>\n</g>\n<!-- 1594741371&#45;&gt;232126471+ -->\n<g id=\"edge21\" class=\"edge\">\n<title>1594741371&#45;&gt;232126471+</title>\n<path fill=\"none\" stroke=\"black\" d=\"M1650.58,-194.81C1660.53,-199.11 1670.92,-203.6 1680.28,-207.66\"/>\n<polygon fill=\"black\" stroke=\"black\" points=\"1678.78,-211.25 1689.35,-212.01 1681.56,-204.83 1678.78,-211.25\"/>\n</g>\n<!-- 1594741371* -->\n<g id=\"node9\" class=\"node\">\n<title>1594741371*</title>\n<ellipse fill=\"none\" stroke=\"black\" cx=\"1497.09\" cy=\"-175.7\" rx=\"27\" ry=\"18\"/>\n<text text-anchor=\"middle\" x=\"1497.09\" y=\"-171.5\" font-family=\"Times,serif\" font-size=\"14.00\">*</text>\n</g>\n<!-- 1594741371*&#45;&gt;1594741371 -->\n<g id=\"edge4\" class=\"edge\">\n<title>1594741371*&#45;&gt;1594741371</title>\n<path fill=\"none\" stroke=\"black\" d=\"M1524.38,-175.7C1531.99,-175.7 1540.59,-175.7 1549.27,-175.7\"/>\n<polygon fill=\"black\" stroke=\"black\" points=\"1549.23,-179.2 1559.23,-175.7 1549.23,-172.2 1549.23,-179.2\"/>\n</g>\n<!-- 1998968304 -->\n<g id=\"node10\" class=\"node\">\n<title>1998968304</title>\n<polygon fill=\"none\" stroke=\"black\" points=\"1332.55,-185.5 1332.55,-259.9 1434.09,-259.9 1434.09,-185.5 1332.55,-185.5\"/>\n<text text-anchor=\"middle\" x=\"1383.32\" y=\"-243.3\" font-family=\"Times,serif\" font-size=\"14.00\">sigmoid(z_out)</text>\n<polyline fill=\"none\" stroke=\"black\" points=\"1332.55,-235.1 1434.09,-235.1\"/>\n<text text-anchor=\"middle\" x=\"1383.32\" y=\"-218.5\" font-family=\"Times,serif\" font-size=\"14.00\">Wert 0,6065</text>\n<polyline fill=\"none\" stroke=\"black\" points=\"1332.55,-210.3 1434.09,-210.3\"/>\n<text text-anchor=\"middle\" x=\"1383.32\" y=\"-193.7\" font-family=\"Times,serif\" font-size=\"14.00\">Grad 0,5965</text>\n</g>\n<!-- 1998968304&#45;&gt;1594741371* -->\n<g id=\"edge22\" class=\"edge\">\n<title>1998968304&#45;&gt;1594741371*</title>\n<path fill=\"none\" stroke=\"black\" d=\"M1434,-201.81C1444.08,-197.57 1454.43,-193.22 1463.73,-189.31\"/>\n<polygon fill=\"black\" stroke=\"black\" points=\"1464.84,-192.22 1472.7,-185.12 1462.12,-185.77 1464.84,-192.22\"/>\n</g>\n<!-- 1998968304sigmoid -->\n<g id=\"node11\" class=\"node\">\n<title>1998968304sigmoid</title>\n<ellipse fill=\"none\" stroke=\"black\" cx=\"1254.39\" cy=\"-222.7\" rx=\"42.16\" ry=\"18\"/>\n<text text-anchor=\"middle\" x=\"1254.39\" y=\"-218.5\" font-family=\"Times,serif\" font-size=\"14.00\">sigmoid</text>\n</g>\n<!-- 1998968304sigmoid&#45;&gt;1998968304 -->\n<g id=\"edge5\" class=\"edge\">\n<title>1998968304sigmoid&#45;&gt;1998968304</title>\n<path fill=\"none\" stroke=\"black\" d=\"M1296.95,-222.7C1304.9,-222.7 1313.36,-222.7 1321.76,-222.7\"/>\n<polygon fill=\"black\" stroke=\"black\" points=\"1321.71,-226.2 1331.71,-222.7 1321.71,-219.2 1321.71,-226.2\"/>\n</g>\n<!-- 1435639507 -->\n<g id=\"node12\" class=\"node\">\n<title>1435639507</title>\n<polygon fill=\"none\" stroke=\"black\" points=\"1090.25,-185.5 1090.25,-259.9 1176.23,-259.9 1176.23,-185.5 1090.25,-185.5\"/>\n<text text-anchor=\"middle\" x=\"1133.24\" y=\"-243.3\" font-family=\"Times,serif\" font-size=\"14.00\">z_out</text>\n<polyline fill=\"none\" stroke=\"black\" points=\"1090.25,-235.1 1176.23,-235.1\"/>\n<text text-anchor=\"middle\" x=\"1133.24\" y=\"-218.5\" font-family=\"Times,serif\" font-size=\"14.00\">Wert 0,4325</text>\n<polyline fill=\"none\" stroke=\"black\" points=\"1090.25,-210.3 1176.23,-210.3\"/>\n<text text-anchor=\"middle\" x=\"1133.24\" y=\"-193.7\" font-family=\"Times,serif\" font-size=\"14.00\">Grad 0,1424</text>\n</g>\n<!-- 1435639507&#45;&gt;1998968304sigmoid -->\n<g id=\"edge23\" class=\"edge\">\n<title>1435639507&#45;&gt;1998968304sigmoid</title>\n<path fill=\"none\" stroke=\"black\" d=\"M1175.91,-222.7C1184.03,-222.7 1192.64,-222.7 1201.05,-222.7\"/>\n<polygon fill=\"black\" stroke=\"black\" points=\"1200.94,-226.2 1210.94,-222.7 1200.94,-219.2 1200.94,-226.2\"/>\n</g>\n<!-- 1435639507+ -->\n<g id=\"node13\" class=\"node\">\n<title>1435639507+</title>\n<ellipse fill=\"none\" stroke=\"black\" cx=\"1027.25\" cy=\"-222.7\" rx=\"27\" ry=\"18\"/>\n<text text-anchor=\"middle\" x=\"1027.25\" y=\"-218.5\" font-family=\"Times,serif\" font-size=\"14.00\">+</text>\n</g>\n<!-- 1435639507+&#45;&gt;1435639507 -->\n<g id=\"edge6\" class=\"edge\">\n<title>1435639507+&#45;&gt;1435639507</title>\n<path fill=\"none\" stroke=\"black\" d=\"M1054.49,-222.7C1062.19,-222.7 1070.9,-222.7 1079.63,-222.7\"/>\n<polygon fill=\"black\" stroke=\"black\" points=\"1079.63,-226.2 1089.63,-222.7 1079.63,-219.2 1079.63,-226.2\"/>\n</g>\n<!-- 795689926 -->\n<g id=\"node14\" class=\"node\">\n<title>795689926</title>\n<polygon fill=\"none\" stroke=\"black\" points=\"878.26,-232.5 878.26,-306.9 964.25,-306.9 964.25,-232.5 878.26,-232.5\"/>\n<text text-anchor=\"middle\" x=\"921.25\" y=\"-290.3\" font-family=\"Times,serif\" font-size=\"14.00\">h1*w5</text>\n<polyline fill=\"none\" stroke=\"black\" points=\"878.26,-282.1 964.25,-282.1\"/>\n<text text-anchor=\"middle\" x=\"921.25\" y=\"-265.5\" font-family=\"Times,serif\" font-size=\"14.00\">Wert 0,2027</text>\n<polyline fill=\"none\" stroke=\"black\" points=\"878.26,-257.3 964.25,-257.3\"/>\n<text text-anchor=\"middle\" x=\"921.25\" y=\"-240.7\" font-family=\"Times,serif\" font-size=\"14.00\">Grad 0,1424</text>\n</g>\n<!-- 795689926&#45;&gt;1435639507+ -->\n<g id=\"edge24\" class=\"edge\">\n<title>795689926&#45;&gt;1435639507+</title>\n<path fill=\"none\" stroke=\"black\" d=\"M963.95,-250.85C974.08,-246.28 984.75,-241.46 994.34,-237.12\"/>\n<polygon fill=\"black\" stroke=\"black\" points=\"995.57,-239.95 1003.24,-232.64 992.69,-233.57 995.57,-239.95\"/>\n</g>\n<!-- 795689926* -->\n<g id=\"node15\" class=\"node\">\n<title>795689926*</title>\n<ellipse fill=\"none\" stroke=\"black\" cx=\"815.26\" cy=\"-269.7\" rx=\"27\" ry=\"18\"/>\n<text text-anchor=\"middle\" x=\"815.26\" y=\"-265.5\" font-family=\"Times,serif\" font-size=\"14.00\">*</text>\n</g>\n<!-- 795689926*&#45;&gt;795689926 -->\n<g id=\"edge7\" class=\"edge\">\n<title>795689926*&#45;&gt;795689926</title>\n<path fill=\"none\" stroke=\"black\" d=\"M842.5,-269.7C850.2,-269.7 858.91,-269.7 867.64,-269.7\"/>\n<polygon fill=\"black\" stroke=\"black\" points=\"867.64,-273.2 877.64,-269.7 867.64,-266.2 867.64,-273.2\"/>\n</g>\n<!-- 507695706 -->\n<g id=\"node16\" class=\"node\">\n<title>507695706</title>\n<polygon fill=\"none\" stroke=\"black\" points=\"666.27,-325.5 666.27,-399.9 752.26,-399.9 752.26,-325.5 666.27,-325.5\"/>\n<text text-anchor=\"middle\" x=\"709.27\" y=\"-383.3\" font-family=\"Times,serif\" font-size=\"14.00\">sigmoid(z1)</text>\n<polyline fill=\"none\" stroke=\"black\" points=\"666.27,-375.1 752.26,-375.1\"/>\n<text text-anchor=\"middle\" x=\"709.27\" y=\"-358.5\" font-family=\"Times,serif\" font-size=\"14.00\">Wert 0,5069</text>\n<polyline fill=\"none\" stroke=\"black\" points=\"666.27,-350.3 752.26,-350.3\"/>\n<text text-anchor=\"middle\" x=\"709.27\" y=\"-333.7\" font-family=\"Times,serif\" font-size=\"14.00\">Grad 0,0569</text>\n</g>\n<!-- 507695706&#45;&gt;795689926* -->\n<g id=\"edge25\" class=\"edge\">\n<title>507695706&#45;&gt;795689926*</title>\n<path fill=\"none\" stroke=\"black\" d=\"M751.67,-325.68C764.67,-314.05 778.59,-301.6 789.99,-291.4\"/>\n<polygon fill=\"black\" stroke=\"black\" points=\"792.05,-294.37 797.17,-285.09 787.38,-289.15 792.05,-294.37\"/>\n</g>\n<!-- 507695706sigmoid -->\n<g id=\"node17\" class=\"node\">\n<title>507695706sigmoid</title>\n<ellipse fill=\"none\" stroke=\"black\" cx=\"588.12\" cy=\"-362.7\" rx=\"42.16\" ry=\"18\"/>\n<text text-anchor=\"middle\" x=\"588.12\" y=\"-358.5\" font-family=\"Times,serif\" font-size=\"14.00\">sigmoid</text>\n</g>\n<!-- 507695706sigmoid&#45;&gt;507695706 -->\n<g id=\"edge8\" class=\"edge\">\n<title>507695706sigmoid&#45;&gt;507695706</title>\n<path fill=\"none\" stroke=\"black\" d=\"M630.46,-362.7C638.59,-362.7 647.22,-362.7 655.66,-362.7\"/>\n<polygon fill=\"black\" stroke=\"black\" points=\"655.6,-366.2 665.6,-362.7 655.6,-359.2 655.6,-366.2\"/>\n</g>\n<!-- 1192304183 -->\n<g id=\"node18\" class=\"node\">\n<title>1192304183</title>\n<polygon fill=\"none\" stroke=\"black\" points=\"423.97,-325.5 423.97,-399.9 509.96,-399.9 509.96,-325.5 423.97,-325.5\"/>\n<text text-anchor=\"middle\" x=\"466.97\" y=\"-383.3\" font-family=\"Times,serif\" font-size=\"14.00\">z1</text>\n<polyline fill=\"none\" stroke=\"black\" points=\"423.97,-375.1 509.96,-375.1\"/>\n<text text-anchor=\"middle\" x=\"466.97\" y=\"-358.5\" font-family=\"Times,serif\" font-size=\"14.00\">Wert 0,0275</text>\n<polyline fill=\"none\" stroke=\"black\" points=\"423.97,-350.3 509.96,-350.3\"/>\n<text text-anchor=\"middle\" x=\"466.97\" y=\"-333.7\" font-family=\"Times,serif\" font-size=\"14.00\">Grad 0,0142</text>\n</g>\n<!-- 1192304183&#45;&gt;507695706sigmoid -->\n<g id=\"edge26\" class=\"edge\">\n<title>1192304183&#45;&gt;507695706sigmoid</title>\n<path fill=\"none\" stroke=\"black\" d=\"M509.64,-362.7C517.76,-362.7 526.37,-362.7 534.78,-362.7\"/>\n<polygon fill=\"black\" stroke=\"black\" points=\"534.67,-366.2 544.67,-362.7 534.67,-359.2 534.67,-366.2\"/>\n</g>\n<!-- 1192304183+ -->\n<g id=\"node19\" class=\"node\">\n<title>1192304183+</title>\n<ellipse fill=\"none\" stroke=\"black\" cx=\"360.97\" cy=\"-362.7\" rx=\"27\" ry=\"18\"/>\n<text text-anchor=\"middle\" x=\"360.97\" y=\"-358.5\" font-family=\"Times,serif\" font-size=\"14.00\">+</text>\n</g>\n<!-- 1192304183+&#45;&gt;1192304183 -->\n<g id=\"edge9\" class=\"edge\">\n<title>1192304183+&#45;&gt;1192304183</title>\n<path fill=\"none\" stroke=\"black\" d=\"M388.21,-362.7C395.91,-362.7 404.62,-362.7 413.35,-362.7\"/>\n<polygon fill=\"black\" stroke=\"black\" points=\"413.35,-366.2 423.35,-362.7 413.35,-359.2 413.35,-366.2\"/>\n</g>\n<!-- 45151360 -->\n<g id=\"node20\" class=\"node\">\n<title>45151360</title>\n<polygon fill=\"none\" stroke=\"black\" points=\"211.99,-372.5 211.99,-446.9 297.97,-446.9 297.97,-372.5 211.99,-372.5\"/>\n<text text-anchor=\"middle\" x=\"254.98\" y=\"-430.3\" font-family=\"Times,serif\" font-size=\"14.00\">x1*w1</text>\n<polyline fill=\"none\" stroke=\"black\" points=\"211.99,-422.1 297.97,-422.1\"/>\n<text text-anchor=\"middle\" x=\"254.98\" y=\"-405.5\" font-family=\"Times,serif\" font-size=\"14.00\">Wert 0,0075</text>\n<polyline fill=\"none\" stroke=\"black\" points=\"211.99,-397.3 297.97,-397.3\"/>\n<text text-anchor=\"middle\" x=\"254.98\" y=\"-380.7\" font-family=\"Times,serif\" font-size=\"14.00\">Grad 0,0142</text>\n</g>\n<!-- 45151360&#45;&gt;1192304183+ -->\n<g id=\"edge27\" class=\"edge\">\n<title>45151360&#45;&gt;1192304183+</title>\n<path fill=\"none\" stroke=\"black\" d=\"M297.68,-390.85C307.8,-386.28 318.47,-381.46 328.06,-377.12\"/>\n<polygon fill=\"black\" stroke=\"black\" points=\"329.3,-379.95 336.97,-372.64 326.42,-373.57 329.3,-379.95\"/>\n</g>\n<!-- 45151360* -->\n<g id=\"node21\" class=\"node\">\n<title>45151360*</title>\n<ellipse fill=\"none\" stroke=\"black\" cx=\"148.99\" cy=\"-409.7\" rx=\"27\" ry=\"18\"/>\n<text text-anchor=\"middle\" x=\"148.99\" y=\"-405.5\" font-family=\"Times,serif\" font-size=\"14.00\">*</text>\n</g>\n<!-- 45151360*&#45;&gt;45151360 -->\n<g id=\"edge10\" class=\"edge\">\n<title>45151360*&#45;&gt;45151360</title>\n<path fill=\"none\" stroke=\"black\" d=\"M176.23,-409.7C183.93,-409.7 192.64,-409.7 201.37,-409.7\"/>\n<polygon fill=\"black\" stroke=\"black\" points=\"201.36,-413.2 211.36,-409.7 201.36,-406.2 201.36,-413.2\"/>\n</g>\n<!-- 1200022627 -->\n<g id=\"node22\" class=\"node\">\n<title>1200022627</title>\n<polygon fill=\"none\" stroke=\"black\" points=\"0,-372.5 0,-446.9 85.99,-446.9 85.99,-372.5 0,-372.5\"/>\n<text text-anchor=\"middle\" x=\"42.99\" y=\"-430.3\" font-family=\"Times,serif\" font-size=\"14.00\">x1</text>\n<polyline fill=\"none\" stroke=\"black\" points=\"0,-422.1 85.99,-422.1\"/>\n<text text-anchor=\"middle\" x=\"42.99\" y=\"-405.5\" font-family=\"Times,serif\" font-size=\"14.00\">Wert 0,0500</text>\n<polyline fill=\"none\" stroke=\"black\" points=\"0,-397.3 85.99,-397.3\"/>\n<text text-anchor=\"middle\" x=\"42.99\" y=\"-380.7\" font-family=\"Times,serif\" font-size=\"14.00\">Grad 0,0061</text>\n</g>\n<!-- 1200022627&#45;&gt;45151360* -->\n<g id=\"edge28\" class=\"edge\">\n<title>1200022627&#45;&gt;45151360*</title>\n<path fill=\"none\" stroke=\"black\" d=\"M85.69,-409.7C93.91,-409.7 102.49,-409.7 110.56,-409.7\"/>\n<polygon fill=\"black\" stroke=\"black\" points=\"110.53,-413.2 120.53,-409.7 110.53,-406.2 110.53,-413.2\"/>\n</g>\n<!-- 1227177633* -->\n<g id=\"node36\" class=\"node\">\n<title>1227177633*</title>\n<ellipse fill=\"none\" stroke=\"black\" cx=\"148.99\" cy=\"-316.7\" rx=\"27\" ry=\"18\"/>\n<text text-anchor=\"middle\" x=\"148.99\" y=\"-312.5\" font-family=\"Times,serif\" font-size=\"14.00\">*</text>\n</g>\n<!-- 1200022627&#45;&gt;1227177633* -->\n<g id=\"edge38\" class=\"edge\">\n<title>1200022627&#45;&gt;1227177633*</title>\n<path fill=\"none\" stroke=\"black\" d=\"M85.39,-372.68C98.39,-361.05 112.31,-348.6 123.72,-338.4\"/>\n<polygon fill=\"black\" stroke=\"black\" points=\"125.77,-341.37 130.89,-332.09 121.11,-336.15 125.77,-341.37\"/>\n</g>\n<!-- 1339961035 -->\n<g id=\"node23\" class=\"node\">\n<title>1339961035</title>\n<polygon fill=\"none\" stroke=\"black\" points=\"0,-465.5 0,-539.9 85.99,-539.9 85.99,-465.5 0,-465.5\"/>\n<text text-anchor=\"middle\" x=\"42.99\" y=\"-523.3\" font-family=\"Times,serif\" font-size=\"14.00\">w1</text>\n<polyline fill=\"none\" stroke=\"black\" points=\"0,-515.1 85.99,-515.1\"/>\n<text text-anchor=\"middle\" x=\"42.99\" y=\"-498.5\" font-family=\"Times,serif\" font-size=\"14.00\">Wert 0,1500</text>\n<polyline fill=\"none\" stroke=\"black\" points=\"0,-490.3 85.99,-490.3\"/>\n<text text-anchor=\"middle\" x=\"42.99\" y=\"-473.7\" font-family=\"Times,serif\" font-size=\"14.00\">Grad 0,0007</text>\n</g>\n<!-- 1339961035&#45;&gt;45151360* -->\n<g id=\"edge29\" class=\"edge\">\n<title>1339961035&#45;&gt;45151360*</title>\n<path fill=\"none\" stroke=\"black\" d=\"M85.39,-465.68C98.39,-454.05 112.31,-441.6 123.72,-431.4\"/>\n<polygon fill=\"black\" stroke=\"black\" points=\"125.77,-434.37 130.89,-425.09 121.11,-429.15 125.77,-434.37\"/>\n</g>\n<!-- 15819169 -->\n<g id=\"node24\" class=\"node\">\n<title>15819169</title>\n<polygon fill=\"none\" stroke=\"black\" points=\"211.99,-186.5 211.99,-260.9 297.97,-260.9 297.97,-186.5 211.99,-186.5\"/>\n<text text-anchor=\"middle\" x=\"254.98\" y=\"-244.3\" font-family=\"Times,serif\" font-size=\"14.00\">x2*w2</text>\n<polyline fill=\"none\" stroke=\"black\" points=\"211.99,-236.1 297.97,-236.1\"/>\n<text text-anchor=\"middle\" x=\"254.98\" y=\"-219.5\" font-family=\"Times,serif\" font-size=\"14.00\">Wert 0,0200</text>\n<polyline fill=\"none\" stroke=\"black\" points=\"211.99,-211.3 297.97,-211.3\"/>\n<text text-anchor=\"middle\" x=\"254.98\" y=\"-194.7\" font-family=\"Times,serif\" font-size=\"14.00\">Grad 0,0142</text>\n</g>\n<!-- 15819169&#45;&gt;1192304183+ -->\n<g id=\"edge30\" class=\"edge\">\n<title>15819169&#45;&gt;1192304183+</title>\n<path fill=\"none\" stroke=\"black\" d=\"M290.62,-260.69C293.16,-263.69 295.64,-266.72 297.97,-269.7 314.98,-291.43 332.22,-317.72 344.19,-336.79\"/>\n<polygon fill=\"black\" stroke=\"black\" points=\"341.69,-338.4 349.94,-345.05 347.64,-334.71 341.69,-338.4\"/>\n</g>\n<!-- 15819169* -->\n<g id=\"node25\" class=\"node\">\n<title>15819169*</title>\n<ellipse fill=\"none\" stroke=\"black\" cx=\"148.99\" cy=\"-223.7\" rx=\"27\" ry=\"18\"/>\n<text text-anchor=\"middle\" x=\"148.99\" y=\"-219.5\" font-family=\"Times,serif\" font-size=\"14.00\">*</text>\n</g>\n<!-- 15819169*&#45;&gt;15819169 -->\n<g id=\"edge11\" class=\"edge\">\n<title>15819169*&#45;&gt;15819169</title>\n<path fill=\"none\" stroke=\"black\" d=\"M176.23,-223.7C183.93,-223.7 192.64,-223.7 201.37,-223.7\"/>\n<polygon fill=\"black\" stroke=\"black\" points=\"201.36,-227.2 211.36,-223.7 201.36,-220.2 201.36,-227.2\"/>\n</g>\n<!-- 98603467 -->\n<g id=\"node26\" class=\"node\">\n<title>98603467</title>\n<polygon fill=\"none\" stroke=\"black\" points=\"0,-93.5 0,-167.9 85.99,-167.9 85.99,-93.5 0,-93.5\"/>\n<text text-anchor=\"middle\" x=\"42.99\" y=\"-151.3\" font-family=\"Times,serif\" font-size=\"14.00\">x2</text>\n<polyline fill=\"none\" stroke=\"black\" points=\"0,-143.1 85.99,-143.1\"/>\n<text text-anchor=\"middle\" x=\"42.99\" y=\"-126.5\" font-family=\"Times,serif\" font-size=\"14.00\">Wert 0,1000</text>\n<polyline fill=\"none\" stroke=\"black\" points=\"0,-118.3 85.99,-118.3\"/>\n<text text-anchor=\"middle\" x=\"42.99\" y=\"-101.7\" font-family=\"Times,serif\" font-size=\"14.00\">Grad 0,0076</text>\n</g>\n<!-- 98603467&#45;&gt;15819169* -->\n<g id=\"edge31\" class=\"edge\">\n<title>98603467&#45;&gt;15819169*</title>\n<path fill=\"none\" stroke=\"black\" d=\"M85.39,-167.72C98.39,-179.35 112.31,-191.8 123.72,-202\"/>\n<polygon fill=\"black\" stroke=\"black\" points=\"121.11,-204.25 130.89,-208.31 125.77,-199.03 121.11,-204.25\"/>\n</g>\n<!-- 902748884* -->\n<g id=\"node39\" class=\"node\">\n<title>902748884*</title>\n<ellipse fill=\"none\" stroke=\"black\" cx=\"148.99\" cy=\"-130.7\" rx=\"27\" ry=\"18\"/>\n<text text-anchor=\"middle\" x=\"148.99\" y=\"-126.5\" font-family=\"Times,serif\" font-size=\"14.00\">*</text>\n</g>\n<!-- 98603467&#45;&gt;902748884* -->\n<g id=\"edge41\" class=\"edge\">\n<title>98603467&#45;&gt;902748884*</title>\n<path fill=\"none\" stroke=\"black\" d=\"M85.69,-130.7C93.91,-130.7 102.49,-130.7 110.56,-130.7\"/>\n<polygon fill=\"black\" stroke=\"black\" points=\"110.53,-134.2 120.53,-130.7 110.53,-127.2 110.53,-134.2\"/>\n</g>\n<!-- 1974851816 -->\n<g id=\"node27\" class=\"node\">\n<title>1974851816</title>\n<polygon fill=\"none\" stroke=\"black\" points=\"0,-186.5 0,-260.9 85.99,-260.9 85.99,-186.5 0,-186.5\"/>\n<text text-anchor=\"middle\" x=\"42.99\" y=\"-244.3\" font-family=\"Times,serif\" font-size=\"14.00\">w2</text>\n<polyline fill=\"none\" stroke=\"black\" points=\"0,-236.1 85.99,-236.1\"/>\n<text text-anchor=\"middle\" x=\"42.99\" y=\"-219.5\" font-family=\"Times,serif\" font-size=\"14.00\">Wert 0,2000</text>\n<polyline fill=\"none\" stroke=\"black\" points=\"0,-211.3 85.99,-211.3\"/>\n<text text-anchor=\"middle\" x=\"42.99\" y=\"-194.7\" font-family=\"Times,serif\" font-size=\"14.00\">Grad 0,0014</text>\n</g>\n<!-- 1974851816&#45;&gt;15819169* -->\n<g id=\"edge32\" class=\"edge\">\n<title>1974851816&#45;&gt;15819169*</title>\n<path fill=\"none\" stroke=\"black\" d=\"M85.69,-223.7C93.91,-223.7 102.49,-223.7 110.56,-223.7\"/>\n<polygon fill=\"black\" stroke=\"black\" points=\"110.53,-227.2 120.53,-223.7 110.53,-220.2 110.53,-227.2\"/>\n</g>\n<!-- 1268975843 -->\n<g id=\"node28\" class=\"node\">\n<title>1268975843</title>\n<polygon fill=\"none\" stroke=\"black\" points=\"666.27,-232.5 666.27,-306.9 752.26,-306.9 752.26,-232.5 666.27,-232.5\"/>\n<text text-anchor=\"middle\" x=\"709.27\" y=\"-290.3\" font-family=\"Times,serif\" font-size=\"14.00\">w5</text>\n<polyline fill=\"none\" stroke=\"black\" points=\"666.27,-282.1 752.26,-282.1\"/>\n<text text-anchor=\"middle\" x=\"709.27\" y=\"-265.5\" font-family=\"Times,serif\" font-size=\"14.00\">Wert 0,4000</text>\n<polyline fill=\"none\" stroke=\"black\" points=\"666.27,-257.3 752.26,-257.3\"/>\n<text text-anchor=\"middle\" x=\"709.27\" y=\"-240.7\" font-family=\"Times,serif\" font-size=\"14.00\">Grad 0,0722</text>\n</g>\n<!-- 1268975843&#45;&gt;795689926* -->\n<g id=\"edge33\" class=\"edge\">\n<title>1268975843&#45;&gt;795689926*</title>\n<path fill=\"none\" stroke=\"black\" d=\"M751.97,-269.7C760.19,-269.7 768.76,-269.7 776.83,-269.7\"/>\n<polygon fill=\"black\" stroke=\"black\" points=\"776.81,-273.2 786.81,-269.7 776.81,-266.2 776.81,-273.2\"/>\n</g>\n<!-- 1079280735 -->\n<g id=\"node29\" class=\"node\">\n<title>1079280735</title>\n<polygon fill=\"none\" stroke=\"black\" points=\"878.26,-139.5 878.26,-213.9 964.25,-213.9 964.25,-139.5 878.26,-139.5\"/>\n<text text-anchor=\"middle\" x=\"921.25\" y=\"-197.3\" font-family=\"Times,serif\" font-size=\"14.00\">h2*w6</text>\n<polyline fill=\"none\" stroke=\"black\" points=\"878.26,-189.1 964.25,-189.1\"/>\n<text text-anchor=\"middle\" x=\"921.25\" y=\"-172.5\" font-family=\"Times,serif\" font-size=\"14.00\">Wert 0,2298</text>\n<polyline fill=\"none\" stroke=\"black\" points=\"878.26,-164.3 964.25,-164.3\"/>\n<text text-anchor=\"middle\" x=\"921.25\" y=\"-147.7\" font-family=\"Times,serif\" font-size=\"14.00\">Grad 0,1424</text>\n</g>\n<!-- 1079280735&#45;&gt;1435639507+ -->\n<g id=\"edge34\" class=\"edge\">\n<title>1079280735&#45;&gt;1435639507+</title>\n<path fill=\"none\" stroke=\"black\" d=\"M963.95,-195.14C974.08,-199.62 984.75,-204.34 994.34,-208.58\"/>\n<polygon fill=\"black\" stroke=\"black\" points=\"992.68,-212.12 1003.24,-212.97 995.51,-205.72 992.68,-212.12\"/>\n</g>\n<!-- 1079280735* -->\n<g id=\"node30\" class=\"node\">\n<title>1079280735*</title>\n<ellipse fill=\"none\" stroke=\"black\" cx=\"815.26\" cy=\"-176.7\" rx=\"27\" ry=\"18\"/>\n<text text-anchor=\"middle\" x=\"815.26\" y=\"-172.5\" font-family=\"Times,serif\" font-size=\"14.00\">*</text>\n</g>\n<!-- 1079280735*&#45;&gt;1079280735 -->\n<g id=\"edge12\" class=\"edge\">\n<title>1079280735*&#45;&gt;1079280735</title>\n<path fill=\"none\" stroke=\"black\" d=\"M842.5,-176.7C850.2,-176.7 858.91,-176.7 867.64,-176.7\"/>\n<polygon fill=\"black\" stroke=\"black\" points=\"867.64,-180.2 877.64,-176.7 867.64,-173.2 867.64,-180.2\"/>\n</g>\n<!-- 1102789463 -->\n<g id=\"node31\" class=\"node\">\n<title>1102789463</title>\n<polygon fill=\"none\" stroke=\"black\" points=\"666.27,-139.5 666.27,-213.9 752.26,-213.9 752.26,-139.5 666.27,-139.5\"/>\n<text text-anchor=\"middle\" x=\"709.27\" y=\"-197.3\" font-family=\"Times,serif\" font-size=\"14.00\">sigmoid(z2)</text>\n<polyline fill=\"none\" stroke=\"black\" points=\"666.27,-189.1 752.26,-189.1\"/>\n<text text-anchor=\"middle\" x=\"709.27\" y=\"-172.5\" font-family=\"Times,serif\" font-size=\"14.00\">Wert 0,5106</text>\n<polyline fill=\"none\" stroke=\"black\" points=\"666.27,-164.3 752.26,-164.3\"/>\n<text text-anchor=\"middle\" x=\"709.27\" y=\"-147.7\" font-family=\"Times,serif\" font-size=\"14.00\">Grad 0,0641</text>\n</g>\n<!-- 1102789463&#45;&gt;1079280735* -->\n<g id=\"edge35\" class=\"edge\">\n<title>1102789463&#45;&gt;1079280735*</title>\n<path fill=\"none\" stroke=\"black\" d=\"M751.97,-176.7C760.19,-176.7 768.76,-176.7 776.83,-176.7\"/>\n<polygon fill=\"black\" stroke=\"black\" points=\"776.81,-180.2 786.81,-176.7 776.81,-173.2 776.81,-180.2\"/>\n</g>\n<!-- 1102789463sigmoid -->\n<g id=\"node32\" class=\"node\">\n<title>1102789463sigmoid</title>\n<ellipse fill=\"none\" stroke=\"black\" cx=\"588.12\" cy=\"-176.7\" rx=\"42.16\" ry=\"18\"/>\n<text text-anchor=\"middle\" x=\"588.12\" y=\"-172.5\" font-family=\"Times,serif\" font-size=\"14.00\">sigmoid</text>\n</g>\n<!-- 1102789463sigmoid&#45;&gt;1102789463 -->\n<g id=\"edge13\" class=\"edge\">\n<title>1102789463sigmoid&#45;&gt;1102789463</title>\n<path fill=\"none\" stroke=\"black\" d=\"M630.46,-176.7C638.59,-176.7 647.22,-176.7 655.66,-176.7\"/>\n<polygon fill=\"black\" stroke=\"black\" points=\"655.6,-180.2 665.6,-176.7 655.6,-173.2 655.6,-180.2\"/>\n</g>\n<!-- 437442832 -->\n<g id=\"node33\" class=\"node\">\n<title>437442832</title>\n<polygon fill=\"none\" stroke=\"black\" points=\"423.97,-139.5 423.97,-213.9 509.96,-213.9 509.96,-139.5 423.97,-139.5\"/>\n<text text-anchor=\"middle\" x=\"466.97\" y=\"-197.3\" font-family=\"Times,serif\" font-size=\"14.00\">z2</text>\n<polyline fill=\"none\" stroke=\"black\" points=\"423.97,-189.1 509.96,-189.1\"/>\n<text text-anchor=\"middle\" x=\"466.97\" y=\"-172.5\" font-family=\"Times,serif\" font-size=\"14.00\">Wert 0,0425</text>\n<polyline fill=\"none\" stroke=\"black\" points=\"423.97,-164.3 509.96,-164.3\"/>\n<text text-anchor=\"middle\" x=\"466.97\" y=\"-147.7\" font-family=\"Times,serif\" font-size=\"14.00\">Grad 0,0160</text>\n</g>\n<!-- 437442832&#45;&gt;1102789463sigmoid -->\n<g id=\"edge36\" class=\"edge\">\n<title>437442832&#45;&gt;1102789463sigmoid</title>\n<path fill=\"none\" stroke=\"black\" d=\"M509.64,-176.7C517.76,-176.7 526.37,-176.7 534.78,-176.7\"/>\n<polygon fill=\"black\" stroke=\"black\" points=\"534.67,-180.2 544.67,-176.7 534.67,-173.2 534.67,-180.2\"/>\n</g>\n<!-- 437442832+ -->\n<g id=\"node34\" class=\"node\">\n<title>437442832+</title>\n<ellipse fill=\"none\" stroke=\"black\" cx=\"360.97\" cy=\"-176.7\" rx=\"27\" ry=\"18\"/>\n<text text-anchor=\"middle\" x=\"360.97\" y=\"-172.5\" font-family=\"Times,serif\" font-size=\"14.00\">+</text>\n</g>\n<!-- 437442832+&#45;&gt;437442832 -->\n<g id=\"edge14\" class=\"edge\">\n<title>437442832+&#45;&gt;437442832</title>\n<path fill=\"none\" stroke=\"black\" d=\"M388.21,-176.7C395.91,-176.7 404.62,-176.7 413.35,-176.7\"/>\n<polygon fill=\"black\" stroke=\"black\" points=\"413.35,-180.2 423.35,-176.7 413.35,-173.2 413.35,-180.2\"/>\n</g>\n<!-- 1227177633 -->\n<g id=\"node35\" class=\"node\">\n<title>1227177633</title>\n<polygon fill=\"none\" stroke=\"black\" points=\"211.99,-279.5 211.99,-353.9 297.97,-353.9 297.97,-279.5 211.99,-279.5\"/>\n<text text-anchor=\"middle\" x=\"254.98\" y=\"-337.3\" font-family=\"Times,serif\" font-size=\"14.00\">x1*w3</text>\n<polyline fill=\"none\" stroke=\"black\" points=\"211.99,-329.1 297.97,-329.1\"/>\n<text text-anchor=\"middle\" x=\"254.98\" y=\"-312.5\" font-family=\"Times,serif\" font-size=\"14.00\">Wert 0,0125</text>\n<polyline fill=\"none\" stroke=\"black\" points=\"211.99,-304.3 297.97,-304.3\"/>\n<text text-anchor=\"middle\" x=\"254.98\" y=\"-287.7\" font-family=\"Times,serif\" font-size=\"14.00\">Grad 0,0160</text>\n</g>\n<!-- 1227177633&#45;&gt;437442832+ -->\n<g id=\"edge37\" class=\"edge\">\n<title>1227177633&#45;&gt;437442832+</title>\n<path fill=\"none\" stroke=\"black\" d=\"M290.63,-279.72C293.17,-276.72 295.65,-273.69 297.97,-270.7 315.05,-248.76 332.29,-222.19 344.24,-202.9\"/>\n<polygon fill=\"black\" stroke=\"black\" points=\"347.73,-204.9 349.97,-194.54 341.76,-201.24 347.73,-204.9\"/>\n</g>\n<!-- 1227177633*&#45;&gt;1227177633 -->\n<g id=\"edge15\" class=\"edge\">\n<title>1227177633*&#45;&gt;1227177633</title>\n<path fill=\"none\" stroke=\"black\" d=\"M176.23,-316.7C183.93,-316.7 192.64,-316.7 201.37,-316.7\"/>\n<polygon fill=\"black\" stroke=\"black\" points=\"201.36,-320.2 211.36,-316.7 201.36,-313.2 201.36,-320.2\"/>\n</g>\n<!-- 758594982 -->\n<g id=\"node37\" class=\"node\">\n<title>758594982</title>\n<polygon fill=\"none\" stroke=\"black\" points=\"0,-279.5 0,-353.9 85.99,-353.9 85.99,-279.5 0,-279.5\"/>\n<text text-anchor=\"middle\" x=\"42.99\" y=\"-337.3\" font-family=\"Times,serif\" font-size=\"14.00\">w3</text>\n<polyline fill=\"none\" stroke=\"black\" points=\"0,-329.1 85.99,-329.1\"/>\n<text text-anchor=\"middle\" x=\"42.99\" y=\"-312.5\" font-family=\"Times,serif\" font-size=\"14.00\">Wert 0,2500</text>\n<polyline fill=\"none\" stroke=\"black\" points=\"0,-304.3 85.99,-304.3\"/>\n<text text-anchor=\"middle\" x=\"42.99\" y=\"-287.7\" font-family=\"Times,serif\" font-size=\"14.00\">Grad 0,0008</text>\n</g>\n<!-- 758594982&#45;&gt;1227177633* -->\n<g id=\"edge39\" class=\"edge\">\n<title>758594982&#45;&gt;1227177633*</title>\n<path fill=\"none\" stroke=\"black\" d=\"M85.69,-316.7C93.91,-316.7 102.49,-316.7 110.56,-316.7\"/>\n<polygon fill=\"black\" stroke=\"black\" points=\"110.53,-320.2 120.53,-316.7 110.53,-313.2 110.53,-320.2\"/>\n</g>\n<!-- 902748884 -->\n<g id=\"node38\" class=\"node\">\n<title>902748884</title>\n<polygon fill=\"none\" stroke=\"black\" points=\"211.99,-93.5 211.99,-167.9 297.97,-167.9 297.97,-93.5 211.99,-93.5\"/>\n<text text-anchor=\"middle\" x=\"254.98\" y=\"-151.3\" font-family=\"Times,serif\" font-size=\"14.00\">x2*w4</text>\n<polyline fill=\"none\" stroke=\"black\" points=\"211.99,-143.1 297.97,-143.1\"/>\n<text text-anchor=\"middle\" x=\"254.98\" y=\"-126.5\" font-family=\"Times,serif\" font-size=\"14.00\">Wert 0,0300</text>\n<polyline fill=\"none\" stroke=\"black\" points=\"211.99,-118.3 297.97,-118.3\"/>\n<text text-anchor=\"middle\" x=\"254.98\" y=\"-101.7\" font-family=\"Times,serif\" font-size=\"14.00\">Grad 0,0160</text>\n</g>\n<!-- 902748884&#45;&gt;437442832+ -->\n<g id=\"edge40\" class=\"edge\">\n<title>902748884&#45;&gt;437442832+</title>\n<path fill=\"none\" stroke=\"black\" d=\"M297.68,-149.14C307.8,-153.62 318.47,-158.34 328.06,-162.58\"/>\n<polygon fill=\"black\" stroke=\"black\" points=\"326.41,-166.12 336.97,-166.97 329.24,-159.72 326.41,-166.12\"/>\n</g>\n<!-- 902748884*&#45;&gt;902748884 -->\n<g id=\"edge16\" class=\"edge\">\n<title>902748884*&#45;&gt;902748884</title>\n<path fill=\"none\" stroke=\"black\" d=\"M176.23,-130.7C183.93,-130.7 192.64,-130.7 201.37,-130.7\"/>\n<polygon fill=\"black\" stroke=\"black\" points=\"201.36,-134.2 211.36,-130.7 201.36,-127.2 201.36,-134.2\"/>\n</g>\n<!-- 957894436 -->\n<g id=\"node40\" class=\"node\">\n<title>957894436</title>\n<polygon fill=\"none\" stroke=\"black\" points=\"0,-0.5 0,-74.9 85.99,-74.9 85.99,-0.5 0,-0.5\"/>\n<text text-anchor=\"middle\" x=\"42.99\" y=\"-58.3\" font-family=\"Times,serif\" font-size=\"14.00\">w4</text>\n<polyline fill=\"none\" stroke=\"black\" points=\"0,-50.1 85.99,-50.1\"/>\n<text text-anchor=\"middle\" x=\"42.99\" y=\"-33.5\" font-family=\"Times,serif\" font-size=\"14.00\">Wert 0,3000</text>\n<polyline fill=\"none\" stroke=\"black\" points=\"0,-25.3 85.99,-25.3\"/>\n<text text-anchor=\"middle\" x=\"42.99\" y=\"-8.7\" font-family=\"Times,serif\" font-size=\"14.00\">Grad 0,0016</text>\n</g>\n<!-- 957894436&#45;&gt;902748884* -->\n<g id=\"edge42\" class=\"edge\">\n<title>957894436&#45;&gt;902748884*</title>\n<path fill=\"none\" stroke=\"black\" d=\"M85.39,-74.72C98.39,-86.35 112.31,-98.8 123.72,-109\"/>\n<polygon fill=\"black\" stroke=\"black\" points=\"121.11,-111.25 130.89,-115.31 125.77,-106.03 121.11,-111.25\"/>\n</g>\n<!-- 1504231056 -->\n<g id=\"node41\" class=\"node\">\n<title>1504231056</title>\n<polygon fill=\"none\" stroke=\"black\" points=\"666.27,-46.5 666.27,-120.9 752.26,-120.9 752.26,-46.5 666.27,-46.5\"/>\n<text text-anchor=\"middle\" x=\"709.27\" y=\"-104.3\" font-family=\"Times,serif\" font-size=\"14.00\">w6</text>\n<polyline fill=\"none\" stroke=\"black\" points=\"666.27,-96.1 752.26,-96.1\"/>\n<text text-anchor=\"middle\" x=\"709.27\" y=\"-79.5\" font-family=\"Times,serif\" font-size=\"14.00\">Wert 0,4500</text>\n<polyline fill=\"none\" stroke=\"black\" points=\"666.27,-71.3 752.26,-71.3\"/>\n<text text-anchor=\"middle\" x=\"709.27\" y=\"-54.7\" font-family=\"Times,serif\" font-size=\"14.00\">Grad 0,0727</text>\n</g>\n<!-- 1504231056&#45;&gt;1079280735* -->\n<g id=\"edge43\" class=\"edge\">\n<title>1504231056&#45;&gt;1079280735*</title>\n<path fill=\"none\" stroke=\"black\" d=\"M751.67,-120.72C764.67,-132.35 778.59,-144.8 789.99,-155\"/>\n<polygon fill=\"black\" stroke=\"black\" points=\"787.38,-157.25 797.17,-161.31 792.05,-152.03 787.38,-157.25\"/>\n</g>\n<!-- 1306948110 -->\n<g id=\"node42\" class=\"node\">\n<title>1306948110</title>\n<polygon fill=\"none\" stroke=\"black\" points=\"1338,-92.5 1338,-166.9 1428.64,-166.9 1428.64,-92.5 1338,-92.5\"/>\n<text text-anchor=\"middle\" x=\"1383.32\" y=\"-150.3\" font-family=\"Times,serif\" font-size=\"14.00\"> </text>\n<polyline fill=\"none\" stroke=\"black\" points=\"1338,-142.1 1428.64,-142.1\"/>\n<text text-anchor=\"middle\" x=\"1383.32\" y=\"-125.5\" font-family=\"Times,serif\" font-size=\"14.00\">Wert &#45;1,0000</text>\n<polyline fill=\"none\" stroke=\"black\" points=\"1338,-117.3 1428.64,-117.3\"/>\n<text text-anchor=\"middle\" x=\"1383.32\" y=\"-100.7\" font-family=\"Times,serif\" font-size=\"14.00\">Grad &#45;0,3618</text>\n</g>\n<!-- 1306948110&#45;&gt;1594741371* -->\n<g id=\"edge44\" class=\"edge\">\n<title>1306948110&#45;&gt;1594741371*</title>\n<path fill=\"none\" stroke=\"black\" d=\"M1428.5,-147.88C1440.15,-152.68 1452.51,-157.76 1463.44,-162.26\"/>\n<polygon fill=\"black\" stroke=\"black\" points=\"1461.82,-165.79 1472.4,-166.36 1464.48,-159.32 1461.82,-165.79\"/>\n</g>\n<!-- 238885148 -->\n<g id=\"node43\" class=\"node\">\n<title>238885148</title>\n<polygon fill=\"none\" stroke=\"black\" points=\"2001.1,-91.5 2001.1,-165.9 2087.09,-165.9 2087.09,-91.5 2001.1,-91.5\"/>\n<text text-anchor=\"middle\" x=\"2044.09\" y=\"-149.3\" font-family=\"Times,serif\" font-size=\"14.00\"> </text>\n<polyline fill=\"none\" stroke=\"black\" points=\"2001.1,-141.1 2087.09,-141.1\"/>\n<text text-anchor=\"middle\" x=\"2044.09\" y=\"-124.5\" font-family=\"Times,serif\" font-size=\"14.00\">Wert 0,5000</text>\n<polyline fill=\"none\" stroke=\"black\" points=\"2001.1,-116.3 2087.09,-116.3\"/>\n<text text-anchor=\"middle\" x=\"2044.09\" y=\"-99.7\" font-family=\"Times,serif\" font-size=\"14.00\">Grad 0,3558</text>\n</g>\n<!-- 238885148&#45;&gt;1336622296* -->\n<g id=\"edge45\" class=\"edge\">\n<title>238885148&#45;&gt;1336622296*</title>\n<path fill=\"none\" stroke=\"black\" d=\"M2086.79,-147.14C2096.92,-151.62 2107.59,-156.34 2117.18,-160.58\"/>\n<polygon fill=\"black\" stroke=\"black\" points=\"2115.52,-164.12 2126.08,-164.97 2118.35,-157.72 2115.52,-164.12\"/>\n</g>\n<!-- 238885148^&#45;1.0 -->\n<g id=\"node44\" class=\"node\">\n<title>238885148^&#45;1.0</title>\n<ellipse fill=\"none\" stroke=\"black\" cx=\"1934.24\" cy=\"-128.7\" rx=\"30.85\" ry=\"18\"/>\n<text text-anchor=\"middle\" x=\"1934.24\" y=\"-124.5\" font-family=\"Times,serif\" font-size=\"14.00\">^&#45;1.0</text>\n</g>\n<!-- 238885148^&#45;1.0&#45;&gt;238885148 -->\n<g id=\"edge17\" class=\"edge\">\n<title>238885148^&#45;1.0&#45;&gt;238885148</title>\n<path fill=\"none\" stroke=\"black\" d=\"M1965.57,-128.7C1973.37,-128.7 1981.99,-128.7 1990.56,-128.7\"/>\n<polygon fill=\"black\" stroke=\"black\" points=\"1990.32,-132.2 2000.32,-128.7 1990.32,-125.2 1990.32,-132.2\"/>\n</g>\n<!-- 1965491856 -->\n<g id=\"node45\" class=\"node\">\n<title>1965491856</title>\n<polygon fill=\"none\" stroke=\"black\" points=\"1776.74,-91.5 1776.74,-165.9 1867.39,-165.9 1867.39,-91.5 1776.74,-91.5\"/>\n<text text-anchor=\"middle\" x=\"1822.07\" y=\"-149.3\" font-family=\"Times,serif\" font-size=\"14.00\"> </text>\n<polyline fill=\"none\" stroke=\"black\" points=\"1776.74,-141.1 1867.39,-141.1\"/>\n<text text-anchor=\"middle\" x=\"1822.07\" y=\"-124.5\" font-family=\"Times,serif\" font-size=\"14.00\">Wert 2,0000</text>\n<polyline fill=\"none\" stroke=\"black\" points=\"1776.74,-116.3 1867.39,-116.3\"/>\n<text text-anchor=\"middle\" x=\"1822.07\" y=\"-99.7\" font-family=\"Times,serif\" font-size=\"14.00\">Grad &#45;0,0889</text>\n</g>\n<!-- 1965491856&#45;&gt;238885148^&#45;1.0 -->\n<g id=\"edge46\" class=\"edge\">\n<title>1965491856&#45;&gt;238885148^&#45;1.0</title>\n<path fill=\"none\" stroke=\"black\" d=\"M1867.24,-128.7C1875.48,-128.7 1884.05,-128.7 1892.18,-128.7\"/>\n<polygon fill=\"black\" stroke=\"black\" points=\"1891.93,-132.2 1901.93,-128.7 1891.93,-125.2 1891.93,-132.2\"/>\n</g>\n</g>\n</svg>\n"
     },
     "execution_count": 21,
     "metadata": {},
     "output_type": "execute_result"
    }
   ],
   "execution_count": 21
  },
  {
   "metadata": {
    "ExecuteTime": {
     "end_time": "2024-10-05T20:37:38.553389Z",
     "start_time": "2024-10-05T20:37:38.551698Z"
    }
   },
   "cell_type": "code",
   "source": "",
   "outputs": [],
   "execution_count": null
  },
  {
   "metadata": {},
   "cell_type": "code",
   "outputs": [],
   "execution_count": null,
   "source": ""
  }
 ],
 "metadata": {
  "kernelspec": {
   "display_name": "Kotlin",
   "language": "kotlin",
   "name": "kotlin"
  },
  "language_info": {
   "name": "kotlin",
   "version": "1.9.23",
   "mimetype": "text/x-kotlin",
   "file_extension": ".kt",
   "pygments_lexer": "kotlin",
   "codemirror_mode": "text/x-kotlin",
   "nbconvert_exporter": ""
  },
  "ktnbPluginMetadata": {
   "projectDependencies": [
    "miKrograd.core.commonMain",
    "miKrograd.core.commonTest",
    "miKrograd.core.jvmMain",
    "miKrograd.core.jvmTest",
    "miKrograd.dot-poet.commonMain",
    "miKrograd.dot-poet.commonTest",
    "miKrograd.dot-poet.jvmMain",
    "miKrograd.dot-poet.jvmTest",
    "miKrograd.gguf.commonMain",
    "miKrograd.gguf.commonTest",
    "miKrograd.gguf.jvmMain",
    "miKrograd.gguf.jvmTest",
    "miKrograd.samples.commonMain",
    "miKrograd.samples.commonTest",
    "miKrograd.samples.jvmMain",
    "miKrograd.samples.jvmTest"
   ]
  }
 },
 "nbformat": 4,
 "nbformat_minor": 0
}
