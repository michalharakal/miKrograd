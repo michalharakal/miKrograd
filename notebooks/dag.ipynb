{
 "cells": [
  {
   "cell_type": "code",
   "metadata": {
    "collapsed": true,
    "ExecuteTime": {
     "end_time": "2024-09-24T22:52:58.311316Z",
     "start_time": "2024-09-24T22:52:58.139612Z"
    }
   },
   "source": [
    "import org.mikrograd.diff.Value\n",
    "\n",
    "//# inputs x1,x2\n",
    "val x1 = Value(2.0, label=\"x1\")\n",
    "val x2 = Value(0.0, label=\"x2\")\n",
    "//# weights w1,w2\n",
    "val w1 = Value(-3.0, label=\"w1\")\n",
    "val w2 = Value(1.0, label=\"w2\")\n",
    "//# bias of the neuron\n",
    "val  b = Value(6.8813735870195432, label=\"b\")\n",
    "// x1*w1 + x2*w2 + b\n",
    "val x1w1 = x1*w1; x1w1.label = \"x1*w1\"\n",
    "val x2w2 = x2*w2; x2w2.label = \"x2*w2\"\n",
    "val x1w1x2w2 = x1w1 + x2w2; x1w1x2w2.label = \"x1*w1 + x2*w2\"\n",
    "val n = x1w1x2w2 + b; n.label = \"n\"\n",
    "val o = n.tanh(); o.label = \"o\"\n",
    "o.backward()"
   ],
   "outputs": [],
   "execution_count": 3
  },
  {
   "metadata": {
    "ExecuteTime": {
     "end_time": "2024-09-24T22:57:26.462309Z",
     "start_time": "2024-09-24T22:57:26.397991Z"
    }
   },
   "cell_type": "code",
   "source": [
    "import org.mikrograd.utils.drawDot\n",
    "\n",
    "drawDot(o, withGradient = true).render()"
   ],
   "outputs": [
    {
     "data": {
      "text/plain": [
       "digraph {\n",
       "rankdir=\"LR\"; \n",
       "\n",
       "1754518761 [shape=\"record\", label=\" o | value 0,7071 | grad 1,0000 \"];\n",
       "\"1754518761tanh\" [label=\"tanh\"];\n",
       "142217156 [shape=\"record\", label=\" n | value 0,8814 | grad 0,5000 \"];\n",
       "\"142217156+\" [label=\"+\"];\n",
       "829013419 [shape=\"record\", label=\" x1*w1 + x2*w2 | value -6,0000 | grad 0,5000 \"];\n",
       "\"829013419+\" [label=\"+\"];\n",
       "2101548112 [shape=\"record\", label=\" x1*w1 | value -6,0000 | grad 0,5000 \"];\n",
       "\"2101548112*\" [label=\"*\"];\n",
       "184656781 [shape=\"record\", label=\" x1 | value 2,0000 | grad -1,5000 \"];\n",
       "1407031558 [shape=\"record\", label=\" w1 | value -3,0000 | grad 1,0000 \"];\n",
       "791015987 [shape=\"record\", label=\" x2*w2 | value 0,0000 | grad 0,5000 \"];\n",
       "\"791015987*\" [label=\"*\"];\n",
       "1243709971 [shape=\"record\", label=\" x2 | value 0,0000 | grad 0,5000 \"];\n",
       "1287277841 [shape=\"record\", label=\" w2 | value 1,0000 | grad 0,0000 \"];\n",
       "1930491945 [shape=\"record\", label=\" b | value 6,8814 | grad 0,5000 \"];\n",
       "\"1754518761tanh\" -> 1754518761 [];\n",
       "\"142217156+\" -> 142217156 [];\n",
       "\"829013419+\" -> 829013419 [];\n",
       "\"2101548112*\" -> 2101548112 [];\n",
       "\"791015987*\" -> 791015987 [];\n",
       "142217156 -> \"1754518761tanh\" [];\n",
       "829013419 -> \"142217156+\" [];\n",
       "2101548112 -> \"829013419+\" [];\n",
       "184656781 -> \"2101548112*\" [];\n",
       "1407031558 -> \"2101548112*\" [];\n",
       "791015987 -> \"829013419+\" [];\n",
       "1243709971 -> \"791015987*\" [];\n",
       "1287277841 -> \"791015987*\" [];\n",
       "1930491945 -> \"142217156+\" [];\n",
       "}"
      ]
     },
     "execution_count": 7,
     "metadata": {},
     "output_type": "execute_result"
    }
   ],
   "execution_count": 7
  },
  {
   "metadata": {},
   "cell_type": "code",
   "outputs": [],
   "execution_count": null,
   "source": ""
  }
 ],
 "metadata": {
  "kernelspec": {
   "display_name": "Kotlin",
   "language": "kotlin",
   "name": "kotlin"
  },
  "language_info": {
   "name": "kotlin",
   "version": "1.9.23",
   "mimetype": "text/x-kotlin",
   "file_extension": ".kt",
   "pygments_lexer": "kotlin",
   "codemirror_mode": "text/x-kotlin",
   "nbconvert_exporter": ""
  },
  "ktnbPluginMetadata": {
   "projectDependencies": true
  }
 },
 "nbformat": 4,
 "nbformat_minor": 0
}
