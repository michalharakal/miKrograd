{
 "cells": [
  {
   "metadata": {
    "ExecuteTime": {
     "end_time": "2024-07-16T20:11:51.906948Z",
     "start_time": "2024-07-16T20:11:51.721663Z"
    }
   },
   "cell_type": "code",
   "source": [
    "import org.mikrograd.diff.Value\n",
    "import org.mikrograd.diff.div\n",
    "import org.mikrograd.diff.plus\n",
    "\n",
    "val a = Value(-4.0)\n",
    "val b = Value(2.0)\n",
    "var c = a + b\n",
    "var d = a * b + b.pow(3.0)\n",
    "c += c + 1\n",
    "c += 1.0 + c + (-a)\n",
    "d += d * 2 + (b + a).relu()\n",
    "d += d * 3.0 + (b - a).relu()\n",
    "val e = c - d\n",
    "val f = e.pow(2.0)\n",
    "var g = f / 2\n",
    "g += 10.0 / f\n",
    "println(\"$g\")\n",
    "g.backward()\n",
    "println(\"${a.grad}\") // prints 138.8338, i.e. the numerical value of dg/da\n",
    "println(\"${b.grad}\") // prints 645.5773, i.e. the numerical value of dg/db\n"
   ],
   "outputs": [
    {
     "name": "stdout",
     "output_type": "stream",
     "text": [
      "Value(data=24.70408163265306, grad=0.0)\n",
      "138.83381924198252\n",
      "645.5772594752186\n"
     ]
    }
   ],
   "execution_count": 2
  },
  {
   "metadata": {},
   "cell_type": "code",
   "outputs": [],
   "execution_count": null,
   "source": ""
  }
 ],
 "metadata": {
  "kernelspec": {
   "display_name": "Kotlin",
   "language": "kotlin",
   "name": "kotlin"
  },
  "language_info": {
   "name": "kotlin",
   "version": "1.9.23",
   "mimetype": "text/x-kotlin",
   "file_extension": ".kt",
   "pygments_lexer": "kotlin",
   "codemirror_mode": "text/x-kotlin",
   "nbconvert_exporter": ""
  },
  "ktnbPluginMetadata": {
   "projectDependencies": [
    "miKrograd.core.commonMain",
    "miKrograd.core.commonTest",
    "miKrograd.core.jvmMain",
    "miKrograd.core.jvmTest",
    "miKrograd.dot-poet.commonMain",
    "miKrograd.dot-poet.commonTest",
    "miKrograd.dot-poet.jvmMain",
    "miKrograd.dot-poet.jvmTest",
    "miKrograd.gguf.commonMain",
    "miKrograd.gguf.commonTest",
    "miKrograd.gguf.jvmMain",
    "miKrograd.gguf.jvmTest"
   ]
  }
 },
 "nbformat": 4,
 "nbformat_minor": 0
}
