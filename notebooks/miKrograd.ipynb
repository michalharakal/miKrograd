{
 "cells": [
  {
   "metadata": {
    "ExecuteTime": {
     "end_time": "2024-07-16T20:11:51.906948Z",
     "start_time": "2024-07-16T20:11:51.721663Z"
    }
   },
   "cell_type": "code",
   "source": [
    "import org.mikrograd.diff.Value\n",
    "import org.mikrograd.diff.div\n",
    "import org.mikrograd.diff.plus\n",
    "\n",
    "val a = Value(-4.0)\n",
    "val b = Value(2.0)\n",
    "var c = a + b\n",
    "var d = a * b + b.pow(3.0)\n",
    "c += c + 1\n",
    "c += 1.0 + c + (-a)\n",
    "d += d * 2 + (b + a).relu()\n",
    "d += d * 3.0 + (b - a).relu()\n",
    "val e = c - d\n",
    "val f = e.pow(2.0)\n",
    "var g = f / 2\n",
    "g += 10.0 / f\n",
    "println(\"$g\")\n",
    "g.backward()\n",
    "println(\"${a.grad}\") // prints 138.8338, i.e. the numerical value of dg/da\n",
    "println(\"${b.grad}\") // prints 645.5773, i.e. the numerical value of dg/db\n"
   ],
   "outputs": [
    {
     "name": "stdout",
     "output_type": "stream",
     "text": [
      "Value(data=24.70408163265306, grad=0.0)\n",
      "138.83381924198252\n",
      "645.5772594752186\n"
     ]
    }
   ],
   "execution_count": 2
  },
  {
   "metadata": {
    "ExecuteTime": {
     "end_time": "2024-07-16T20:18:29.388654Z",
     "start_time": "2024-07-16T20:18:29.166137Z"
    }
   },
   "cell_type": "code",
   "source": [
    "fun trace(root: Value): Pair<Set<Value>, Set<Pair<Value, Value>>> {\n",
    "    val nodes = mutableSetOf<Value>()\n",
    "    val edges = mutableSetOf<Pair<Value, Value>>()\n",
    "\n",
    "    fun build(v: Value) {\n",
    "        if (v !in nodes) {\n",
    "            nodes.add(v)\n",
    "            for (child in v._children) {\n",
    "                edges.add(child to v)\n",
    "                build(child)\n",
    "            }\n",
    "        }\n",
    "    }\n",
    "\n",
    "    build(root)\n",
    "    return nodes to edges\n",
    "}"
   ],
   "outputs": [],
   "execution_count": 3
  },
  {
   "metadata": {
    "ExecuteTime": {
     "end_time": "2024-07-16T20:18:45.434035Z",
     "start_time": "2024-07-16T20:18:45.360113Z"
    }
   },
   "cell_type": "code",
   "source": "trace(g)",
   "outputs": [
    {
     "data": {
      "text/plain": [
       "([Value(data=24.70408163265306, grad=1.0), Value(data=24.5, grad=1.0), Value(data=49.0, grad=0.4958350687213661), Value(data=-7.0, grad=-6.941690962099126), Value(data=-1.0, grad=-6.941690962099126), Value(data=-3.0, grad=-13.883381924198252), Value(data=-2.0, grad=-27.766763848396504), Value(data=-4.0, grad=138.83381924198252), Value(data=2.0, grad=645.5772594752186), Value(data=-1.0, grad=-13.883381924198252), Value(data=1.0, grad=-13.883381924198252), Value(data=2.0, grad=-6.941690962099126), Value(data=-2.0, grad=-6.941690962099126), Value(data=1.0, grad=-6.941690962099126), Value(data=4.0, grad=-6.941690962099126), Value(data=-1.0, grad=27.766763848396504), Value(data=-6.0, grad=-6.941690962099126), Value(data=6.0, grad=6.941690962099126), Value(data=0.0, grad=27.766763848396504), Value(data=0.0, grad=83.30029154518951), Value(data=-8.0, grad=83.30029154518951), Value(data=8.0, grad=83.30029154518951), Value(data=0.0, grad=27.766763848396504), Value(data=0.0, grad=27.766763848396504), Value(data=2.0, grad=0.0), Value(data=0.0, grad=27.766763848396504), Value(data=-2.0, grad=0.0), Value(data=6.0, grad=6.941690962099126), Value(data=0.0, grad=6.941690962099126), Value(data=3.0, grad=0.0), Value(data=6.0, grad=6.941690962099126), Value(data=6.0, grad=6.941690962099126), Value(data=4.0, grad=6.941690962099126), Value(data=-1.0, grad=-27.766763848396504), Value(data=-1.0, grad=-41.650145772594755), Value(data=0.5, grad=49.0), Value(data=2.0, grad=-12.25), Value(data=0.2040816326530612, grad=1.0), Value(data=10.0, grad=0.02040816326530612), Value(data=0.02040816326530612, grad=10.0)], [(Value(data=24.5, grad=1.0), Value(data=24.70408163265306, grad=1.0)), (Value(data=49.0, grad=0.4958350687213661), Value(data=24.5, grad=1.0)), (Value(data=-7.0, grad=-6.941690962099126), Value(data=49.0, grad=0.4958350687213661)), (Value(data=-1.0, grad=-6.941690962099126), Value(data=-7.0, grad=-6.941690962099126)), (Value(data=-3.0, grad=-13.883381924198252), Value(data=-1.0, grad=-6.941690962099126)), (Value(data=-2.0, grad=-27.766763848396504), Value(data=-3.0, grad=-13.883381924198252)), (Value(data=-4.0, grad=138.83381924198252), Value(data=-2.0, grad=-27.766763848396504)), (Value(data=2.0, grad=645.5772594752186), Value(data=-2.0, grad=-27.766763848396504)), (Value(data=-1.0, grad=-13.883381924198252), Value(data=-3.0, grad=-13.883381924198252)), (Value(data=-2.0, grad=-27.766763848396504), Value(data=-1.0, grad=-13.883381924198252)), (Value(data=1.0, grad=-13.883381924198252), Value(data=-1.0, grad=-13.883381924198252)), (Value(data=2.0, grad=-6.941690962099126), Value(data=-1.0, grad=-6.941690962099126)), (Value(data=-2.0, grad=-6.941690962099126), Value(data=2.0, grad=-6.941690962099126)), (Value(data=1.0, grad=-6.941690962099126), Value(data=-2.0, grad=-6.941690962099126)), (Value(data=-3.0, grad=-13.883381924198252), Value(data=-2.0, grad=-6.941690962099126)), (Value(data=4.0, grad=-6.941690962099126), Value(data=2.0, grad=-6.941690962099126)), (Value(data=-4.0, grad=138.83381924198252), Value(data=4.0, grad=-6.941690962099126)), (Value(data=-1.0, grad=27.766763848396504), Value(data=4.0, grad=-6.941690962099126)), (Value(data=-6.0, grad=-6.941690962099126), Value(data=-7.0, grad=-6.941690962099126)), (Value(data=6.0, grad=6.941690962099126), Value(data=-6.0, grad=-6.941690962099126)), (Value(data=0.0, grad=27.766763848396504), Value(data=6.0, grad=6.941690962099126)), (Value(data=0.0, grad=83.30029154518951), Value(data=0.0, grad=27.766763848396504)), (Value(data=-8.0, grad=83.30029154518951), Value(data=0.0, grad=83.30029154518951)), (Value(data=-4.0, grad=138.83381924198252), Value(data=-8.0, grad=83.30029154518951)), (Value(data=2.0, grad=645.5772594752186), Value(data=-8.0, grad=83.30029154518951)), (Value(data=8.0, grad=83.30029154518951), Value(data=0.0, grad=83.30029154518951)), (Value(data=2.0, grad=645.5772594752186), Value(data=8.0, grad=83.30029154518951)), (Value(data=0.0, grad=27.766763848396504), Value(data=0.0, grad=27.766763848396504)), (Value(data=0.0, grad=27.766763848396504), Value(data=0.0, grad=27.766763848396504)), (Value(data=0.0, grad=83.30029154518951), Value(data=0.0, grad=27.766763848396504)), (Value(data=2.0, grad=0.0), Value(data=0.0, grad=27.766763848396504)), (Value(data=0.0, grad=27.766763848396504), Value(data=0.0, grad=27.766763848396504)), (Value(data=-2.0, grad=0.0), Value(data=0.0, grad=27.766763848396504)), (Value(data=2.0, grad=645.5772594752186), Value(data=-2.0, grad=0.0)), (Value(data=-4.0, grad=138.83381924198252), Value(data=-2.0, grad=0.0)), (Value(data=6.0, grad=6.941690962099126), Value(data=6.0, grad=6.941690962099126)), (Value(data=0.0, grad=6.941690962099126), Value(data=6.0, grad=6.941690962099126)), (Value(data=0.0, grad=27.766763848396504), Value(data=0.0, grad=6.941690962099126)), (Value(data=3.0, grad=0.0), Value(data=0.0, grad=6.941690962099126)), (Value(data=6.0, grad=6.941690962099126), Value(data=6.0, grad=6.941690962099126)), (Value(data=6.0, grad=6.941690962099126), Value(data=6.0, grad=6.941690962099126)), (Value(data=2.0, grad=645.5772594752186), Value(data=6.0, grad=6.941690962099126)), (Value(data=4.0, grad=6.941690962099126), Value(data=6.0, grad=6.941690962099126)), (Value(data=-4.0, grad=138.83381924198252), Value(data=4.0, grad=6.941690962099126)), (Value(data=-1.0, grad=-27.766763848396504), Value(data=4.0, grad=6.941690962099126)), (Value(data=-1.0, grad=-41.650145772594755), Value(data=-6.0, grad=-6.941690962099126)), (Value(data=0.5, grad=49.0), Value(data=24.5, grad=1.0)), (Value(data=2.0, grad=-12.25), Value(data=0.5, grad=49.0)), (Value(data=0.2040816326530612, grad=1.0), Value(data=24.70408163265306, grad=1.0)), (Value(data=10.0, grad=0.02040816326530612), Value(data=0.2040816326530612, grad=1.0)), (Value(data=0.02040816326530612, grad=10.0), Value(data=0.2040816326530612, grad=1.0)), (Value(data=49.0, grad=0.4958350687213661), Value(data=0.02040816326530612, grad=10.0))])"
      ]
     },
     "execution_count": 4,
     "metadata": {},
     "output_type": "execute_result"
    }
   ],
   "execution_count": 4
  },
  {
   "metadata": {
    "ExecuteTime": {
     "end_time": "2024-07-16T20:19:51.251278Z",
     "start_time": "2024-07-16T20:19:50.984640Z"
    }
   },
   "cell_type": "code",
   "source": [
    "import org.markup.dot.Graph\n",
    "import org.markup.dot.graph\n",
    "\n",
    "\n",
    "fun drawDot(root: Value, format: String = \"svg\", rankdir: String = \"LR\"): Graph {\n",
    "    require(rankdir in listOf(\"LR\", \"TB\"))\n",
    "\n",
    "    val (nodes, edges) = trace(root)\n",
    "\n",
    "    return graph {\n",
    "        directed()\n",
    "\n",
    "        // Add nodes\n",
    "        for (n in nodes) {\n",
    "            node(id = n.hashCode().toString()) {\n",
    "                shape(\"record\")\n",
    "                // Using '|' to separate data and grad, only data in this case\n",
    "                label(\"{ data %.4f | grad %.4f}\".format(n.data, n.grad))\n",
    "            }\n",
    "            n.op.takeIf { it.isNotEmpty() }?.let {\n",
    "                val opId = \"\\\"${n.hashCode()}$it\\\"\"\n",
    "                node(id = opId) {\n",
    "                    label(it)\n",
    "                }\n",
    "                edge(from = opId, to = n.hashCode().toString())\n",
    "            }\n",
    "        }\n",
    "\n",
    "        // Add edges\n",
    "        for ((n1, n2) in edges) {\n",
    "            val n2Op = n2.op.takeIf { it.isNotEmpty() }?.let { \"\\\"${n2.hashCode()}$it\\\"\" } ?: n2.hashCode().toString()\n",
    "            edge(from = n1.hashCode().toString(), to = n2Op)\n",
    "        }\n",
    "    }\n",
    "}\n"
   ],
   "outputs": [],
   "execution_count": 7
  },
  {
   "metadata": {
    "ExecuteTime": {
     "end_time": "2024-07-16T20:20:30.942818Z",
     "start_time": "2024-07-16T20:20:30.852160Z"
    }
   },
   "cell_type": "code",
   "source": "drawDot(g).render()",
   "outputs": [
    {
     "data": {
      "text/plain": [
       "digraph {\n",
       "912203870 [shape=\"record\", label=\"{ data 24,7041 | grad 1,0000}\"];\n",
       "\"912203870+\" [label=\"+\"];\n",
       "879083749 [shape=\"record\", label=\"{ data 24,5000 | grad 1,0000}\"];\n",
       "\"879083749*\" [label=\"*\"];\n",
       "11149588 [shape=\"record\", label=\"{ data 49,0000 | grad 0,4958}\"];\n",
       "\"11149588**2.0\" [label=\"**2.0\"];\n",
       "690167637 [shape=\"record\", label=\"{ data -7,0000 | grad -6,9417}\"];\n",
       "\"690167637+\" [label=\"+\"];\n",
       "1714522111 [shape=\"record\", label=\"{ data -1,0000 | grad -6,9417}\"];\n",
       "\"1714522111+\" [label=\"+\"];\n",
       "2093551924 [shape=\"record\", label=\"{ data -3,0000 | grad -13,8834}\"];\n",
       "\"2093551924+\" [label=\"+\"];\n",
       "758791480 [shape=\"record\", label=\"{ data -2,0000 | grad -27,7668}\"];\n",
       "\"758791480+\" [label=\"+\"];\n",
       "475158141 [shape=\"record\", label=\"{ data -4,0000 | grad 138,8338}\"];\n",
       "1983263863 [shape=\"record\", label=\"{ data 2,0000 | grad 645,5773}\"];\n",
       "1111677748 [shape=\"record\", label=\"{ data -1,0000 | grad -13,8834}\"];\n",
       "\"1111677748+\" [label=\"+\"];\n",
       "1047391673 [shape=\"record\", label=\"{ data 1,0000 | grad -13,8834}\"];\n",
       "813872567 [shape=\"record\", label=\"{ data 2,0000 | grad -6,9417}\"];\n",
       "\"813872567+\" [label=\"+\"];\n",
       "2001775196 [shape=\"record\", label=\"{ data -2,0000 | grad -6,9417}\"];\n",
       "\"2001775196+\" [label=\"+\"];\n",
       "589251833 [shape=\"record\", label=\"{ data 1,0000 | grad -6,9417}\"];\n",
       "1917744390 [shape=\"record\", label=\"{ data 4,0000 | grad -6,9417}\"];\n",
       "\"1917744390*\" [label=\"*\"];\n",
       "1464093173 [shape=\"record\", label=\"{ data -1,0000 | grad 27,7668}\"];\n",
       "632560395 [shape=\"record\", label=\"{ data -6,0000 | grad -6,9417}\"];\n",
       "\"632560395*\" [label=\"*\"];\n",
       "2094377928 [shape=\"record\", label=\"{ data 6,0000 | grad 6,9417}\"];\n",
       "\"2094377928+\" [label=\"+\"];\n",
       "2108819217 [shape=\"record\", label=\"{ data 0,0000 | grad 27,7668}\"];\n",
       "\"2108819217+\" [label=\"+\"];\n",
       "139260595 [shape=\"record\", label=\"{ data 0,0000 | grad 83,3003}\"];\n",
       "\"139260595+\" [label=\"+\"];\n",
       "228973810 [shape=\"record\", label=\"{ data -8,0000 | grad 83,3003}\"];\n",
       "\"228973810*\" [label=\"*\"];\n",
       "1560259941 [shape=\"record\", label=\"{ data 8,0000 | grad 83,3003}\"];\n",
       "\"1560259941**3.0\" [label=\"**3.0\"];\n",
       "823698276 [shape=\"record\", label=\"{ data 0,0000 | grad 27,7668}\"];\n",
       "\"823698276+\" [label=\"+\"];\n",
       "1588467358 [shape=\"record\", label=\"{ data 0,0000 | grad 27,7668}\"];\n",
       "\"1588467358*\" [label=\"*\"];\n",
       "2102334453 [shape=\"record\", label=\"{ data 2,0000 | grad 0,0000}\"];\n",
       "1551506876 [shape=\"record\", label=\"{ data 0,0000 | grad 27,7668}\"];\n",
       "\"1551506876ReLU\" [label=\"ReLU\"];\n",
       "680367828 [shape=\"record\", label=\"{ data -2,0000 | grad 0,0000}\"];\n",
       "\"680367828+\" [label=\"+\"];\n",
       "112820157 [shape=\"record\", label=\"{ data 6,0000 | grad 6,9417}\"];\n",
       "\"112820157+\" [label=\"+\"];\n",
       "65799204 [shape=\"record\", label=\"{ data 0,0000 | grad 6,9417}\"];\n",
       "\"65799204*\" [label=\"*\"];\n",
       "267873816 [shape=\"record\", label=\"{ data 3,0000 | grad 0,0000}\"];\n",
       "1258844676 [shape=\"record\", label=\"{ data 6,0000 | grad 6,9417}\"];\n",
       "\"1258844676ReLU\" [label=\"ReLU\"];\n",
       "100771919 [shape=\"record\", label=\"{ data 6,0000 | grad 6,9417}\"];\n",
       "\"100771919+\" [label=\"+\"];\n",
       "1705984399 [shape=\"record\", label=\"{ data 4,0000 | grad 6,9417}\"];\n",
       "\"1705984399*\" [label=\"*\"];\n",
       "1360815244 [shape=\"record\", label=\"{ data -1,0000 | grad -27,7668}\"];\n",
       "1502389497 [shape=\"record\", label=\"{ data -1,0000 | grad -41,6501}\"];\n",
       "1388592215 [shape=\"record\", label=\"{ data 0,5000 | grad 49,0000}\"];\n",
       "\"1388592215**-1.0\" [label=\"**-1.0\"];\n",
       "1299754169 [shape=\"record\", label=\"{ data 2,0000 | grad -12,2500}\"];\n",
       "2146605470 [shape=\"record\", label=\"{ data 0,2041 | grad 1,0000}\"];\n",
       "\"2146605470*\" [label=\"*\"];\n",
       "1130709493 [shape=\"record\", label=\"{ data 10,0000 | grad 0,0204}\"];\n",
       "808516426 [shape=\"record\", label=\"{ data 0,0204 | grad 10,0000}\"];\n",
       "\"808516426**-1.0\" [label=\"**-1.0\"];\n",
       "\"912203870+\" -> 912203870 [];\n",
       "\"879083749*\" -> 879083749 [];\n",
       "\"11149588**2.0\" -> 11149588 [];\n",
       "\"690167637+\" -> 690167637 [];\n",
       "\"1714522111+\" -> 1714522111 [];\n",
       "\"2093551924+\" -> 2093551924 [];\n",
       "\"758791480+\" -> 758791480 [];\n",
       "\"1111677748+\" -> 1111677748 [];\n",
       "\"813872567+\" -> 813872567 [];\n",
       "\"2001775196+\" -> 2001775196 [];\n",
       "\"1917744390*\" -> 1917744390 [];\n",
       "\"632560395*\" -> 632560395 [];\n",
       "\"2094377928+\" -> 2094377928 [];\n",
       "\"2108819217+\" -> 2108819217 [];\n",
       "\"139260595+\" -> 139260595 [];\n",
       "\"228973810*\" -> 228973810 [];\n",
       "\"1560259941**3.0\" -> 1560259941 [];\n",
       "\"823698276+\" -> 823698276 [];\n",
       "\"1588467358*\" -> 1588467358 [];\n",
       "\"1551506876ReLU\" -> 1551506876 [];\n",
       "\"680367828+\" -> 680367828 [];\n",
       "\"112820157+\" -> 112820157 [];\n",
       "\"65799204*\" -> 65799204 [];\n",
       "\"1258844676ReLU\" -> 1258844676 [];\n",
       "\"100771919+\" -> 100771919 [];\n",
       "\"1705984399*\" -> 1705984399 [];\n",
       "\"1388592215**-1.0\" -> 1388592215 [];\n",
       "\"2146605470*\" -> 2146605470 [];\n",
       "\"808516426**-1.0\" -> 808516426 [];\n",
       "879083749 -> \"912203870+\" [];\n",
       "11149588 -> \"879083749*\" [];\n",
       "690167637 -> \"11149588**2.0\" [];\n",
       "1714522111 -> \"690167637+\" [];\n",
       "2093551924 -> \"1714522111+\" [];\n",
       "758791480 -> \"2093551924+\" [];\n",
       "475158141 -> \"758791480+\" [];\n",
       "1983263863 -> \"758791480+\" [];\n",
       "1111677748 -> \"2093551924+\" [];\n",
       "758791480 -> \"1111677748+\" [];\n",
       "1047391673 -> \"1111677748+\" [];\n",
       "813872567 -> \"1714522111+\" [];\n",
       "2001775196 -> \"813872567+\" [];\n",
       "589251833 -> \"2001775196+\" [];\n",
       "2093551924 -> \"2001775196+\" [];\n",
       "1917744390 -> \"813872567+\" [];\n",
       "475158141 -> \"1917744390*\" [];\n",
       "1464093173 -> \"1917744390*\" [];\n",
       "632560395 -> \"690167637+\" [];\n",
       "2094377928 -> \"632560395*\" [];\n",
       "2108819217 -> \"2094377928+\" [];\n",
       "139260595 -> \"2108819217+\" [];\n",
       "228973810 -> \"139260595+\" [];\n",
       "475158141 -> \"228973810*\" [];\n",
       "1983263863 -> \"228973810*\" [];\n",
       "1560259941 -> \"139260595+\" [];\n",
       "1983263863 -> \"1560259941**3.0\" [];\n",
       "823698276 -> \"2108819217+\" [];\n",
       "1588467358 -> \"823698276+\" [];\n",
       "139260595 -> \"1588467358*\" [];\n",
       "2102334453 -> \"1588467358*\" [];\n",
       "1551506876 -> \"823698276+\" [];\n",
       "680367828 -> \"1551506876ReLU\" [];\n",
       "1983263863 -> \"680367828+\" [];\n",
       "475158141 -> \"680367828+\" [];\n",
       "112820157 -> \"2094377928+\" [];\n",
       "65799204 -> \"112820157+\" [];\n",
       "2108819217 -> \"65799204*\" [];\n",
       "267873816 -> \"65799204*\" [];\n",
       "1258844676 -> \"112820157+\" [];\n",
       "100771919 -> \"1258844676ReLU\" [];\n",
       "1983263863 -> \"100771919+\" [];\n",
       "1705984399 -> \"100771919+\" [];\n",
       "475158141 -> \"1705984399*\" [];\n",
       "1360815244 -> \"1705984399*\" [];\n",
       "1502389497 -> \"632560395*\" [];\n",
       "1388592215 -> \"879083749*\" [];\n",
       "1299754169 -> \"1388592215**-1.0\" [];\n",
       "2146605470 -> \"912203870+\" [];\n",
       "1130709493 -> \"2146605470*\" [];\n",
       "808516426 -> \"2146605470*\" [];\n",
       "11149588 -> \"808516426**-1.0\" [];\n",
       "}"
      ]
     },
     "execution_count": 8,
     "metadata": {},
     "output_type": "execute_result"
    }
   ],
   "execution_count": 8
  },
  {
   "metadata": {},
   "cell_type": "code",
   "outputs": [],
   "execution_count": null,
   "source": ""
  }
 ],
 "metadata": {
  "kernelspec": {
   "display_name": "Kotlin",
   "language": "kotlin",
   "name": "kotlin"
  },
  "language_info": {
   "name": "kotlin",
   "version": "1.9.23",
   "mimetype": "text/x-kotlin",
   "file_extension": ".kt",
   "pygments_lexer": "kotlin",
   "codemirror_mode": "text/x-kotlin",
   "nbconvert_exporter": ""
  },
  "ktnbPluginMetadata": {
   "projectDependencies": [
    "miKrograd.core.commonMain",
    "miKrograd.core.commonTest",
    "miKrograd.core.jvmMain",
    "miKrograd.core.jvmTest",
    "miKrograd.dot-poet.commonMain",
    "miKrograd.dot-poet.commonTest",
    "miKrograd.dot-poet.jvmMain",
    "miKrograd.dot-poet.jvmTest",
    "miKrograd.gguf.commonMain",
    "miKrograd.gguf.commonTest",
    "miKrograd.gguf.jvmMain",
    "miKrograd.gguf.jvmTest"
   ]
  }
 },
 "nbformat": 4,
 "nbformat_minor": 0
}
