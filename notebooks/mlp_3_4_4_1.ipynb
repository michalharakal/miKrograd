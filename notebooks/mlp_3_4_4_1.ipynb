{
 "cells": [
  {
   "cell_type": "code",
   "metadata": {
    "collapsed": true,
    "ExecuteTime": {
     "end_time": "2024-09-24T23:13:00.104064Z",
     "start_time": "2024-09-24T23:13:00.069857Z"
    }
   },
   "source": [
    "import org.mikrograd.diff.MLP\n",
    "import org.mikrograd.diff.Value\n",
    "import org.mikrograd.diff.minus\n",
    "import org.mikrograd.utils.drawDot\n"
   ],
   "outputs": [],
   "execution_count": 5
  },
  {
   "metadata": {
    "ExecuteTime": {
     "end_time": "2024-09-24T23:13:00.691434Z",
     "start_time": "2024-09-24T23:13:00.642636Z"
    }
   },
   "cell_type": "code",
   "source": "val model = MLP(3, listOf(4, 4, 1)) //# 2-layer neural network\n",
   "outputs": [],
   "execution_count": 6
  },
  {
   "metadata": {
    "ExecuteTime": {
     "end_time": "2024-09-24T23:14:08.064967Z",
     "start_time": "2024-09-24T23:14:07.912209Z"
    }
   },
   "cell_type": "code",
   "source": [
    "val x = arrayOf(\n",
    "    doubleArrayOf(2.0,3.0,-1.0)\n",
    ")\n",
    "//val X_v: List<List<Value>> = X.map { xrow -> xrow.map { Value(it) } }\n",
    "model(x[0].map { it })"
   ],
   "outputs": [
    {
     "data": {
      "text/plain": [
       "[Value(data=0.7447144320406953, grad=0.0, op=tanh, label='tanh()')]"
      ]
     },
     "execution_count": 10,
     "metadata": {},
     "output_type": "execute_result"
    }
   ],
   "execution_count": 10
  },
  {
   "metadata": {
    "ExecuteTime": {
     "end_time": "2024-09-24T23:14:30.111201Z",
     "start_time": "2024-09-24T23:14:30.053525Z"
    }
   },
   "cell_type": "code",
   "source": [
    "val (X, y) = Pair<Array<DoubleArray>, DoubleArray>(\n",
    "    arrayOf(\n",
    "        doubleArrayOf(2.0,3.0,-1.0),\n",
    "        doubleArrayOf(3.0,-1.0,0.5),\n",
    "        doubleArrayOf(1.0,1.0,-1.0)\n",
    "    ),\n",
    "    doubleArrayOf(1.0,-1.0,-1.0,1.0)\n",
    ")"
   ],
   "outputs": [],
   "execution_count": 12
  },
  {
   "metadata": {
    "ExecuteTime": {
     "end_time": "2024-09-24T23:15:15.077513Z",
     "start_time": "2024-09-24T23:15:15.045044Z"
    }
   },
   "cell_type": "code",
   "source": "X",
   "outputs": [
    {
     "data": {
      "text/plain": [
       "[[D@4fdcc7f6, [D@3850925e, [D@13a5e49a]"
      ]
     },
     "execution_count": 14,
     "metadata": {},
     "output_type": "execute_result"
    }
   ],
   "execution_count": 14
  },
  {
   "metadata": {
    "ExecuteTime": {
     "end_time": "2024-09-24T23:16:54.577374Z",
     "start_time": "2024-09-24T23:16:54.504252Z"
    }
   },
   "cell_type": "code",
   "source": [
    "val ypred = X.map { x -> \n",
    "    model.invoke(x.map { it })\n",
    "}"
   ],
   "outputs": [],
   "execution_count": 28
  },
  {
   "metadata": {
    "ExecuteTime": {
     "end_time": "2024-09-24T23:16:54.879687Z",
     "start_time": "2024-09-24T23:16:54.852557Z"
    }
   },
   "cell_type": "code",
   "source": "ypred",
   "outputs": [
    {
     "data": {
      "text/plain": [
       "[[Value(data=0.7447144320406953, grad=0.0, op=tanh, label='tanh()')], [Value(data=0.3127984067618169, grad=0.0, op=tanh, label='tanh()')], [Value(data=0.5226706964049614, grad=0.0, op=tanh, label='tanh()')]]"
      ]
     },
     "execution_count": 29,
     "metadata": {},
     "output_type": "execute_result"
    }
   ],
   "execution_count": 29
  },
  {
   "metadata": {
    "ExecuteTime": {
     "end_time": "2024-09-24T23:24:04.904990Z",
     "start_time": "2024-09-24T23:24:04.741992Z"
    }
   },
   "cell_type": "code",
   "source": [
    "(1..20).forEach {\n",
    "\n",
    "    val ypred: List<List<Value>> = X.map { x ->\n",
    "        model.invoke(x.map { it })\n",
    "    }\n",
    "    val loss = y.zip(ypred[0]) { ygt, yout -> (ygt - yout).pow(2.0) }.reduce { acc, v -> acc + v }\n",
    "\n",
    "    model.parameters().forEach { param ->\n",
    "        param.grad = 0.0\n",
    "    }\n",
    "    loss.backward()\n",
    "\n",
    "    model.parameters().forEach { param ->\n",
    "        param.data += -0.1 * param.grad\n",
    "    }\n",
    "    println(loss.data)\n",
    "}"
   ],
   "outputs": [
    {
     "name": "stdout",
     "output_type": "stream",
     "text": [
      "0.06517072120830476\n",
      "0.02205526009391983\n",
      "0.01575274353654176\n",
      "0.012556664636307214\n",
      "0.010562536039883812\n",
      "0.009178705815087151\n",
      "0.008152829841347247\n",
      "0.007357047092335588\n",
      "0.006718937653822571\n",
      "0.0061941197578883125\n",
      "0.005753740673194815\n",
      "0.005378160002068218\n",
      "0.005053505213990339\n",
      "0.004769675856764767\n",
      "0.004519128724921804\n",
      "0.004296107521721566\n",
      "0.004096137219056873\n",
      "0.003915682204229081\n",
      "0.0037519091642655993\n",
      "0.0036025188902391292\n"
     ]
    }
   ],
   "execution_count": 32
  },
  {
   "metadata": {},
   "cell_type": "code",
   "outputs": [],
   "execution_count": null,
   "source": ""
  }
 ],
 "metadata": {
  "kernelspec": {
   "display_name": "Kotlin",
   "language": "kotlin",
   "name": "kotlin"
  },
  "language_info": {
   "name": "kotlin",
   "version": "1.9.23",
   "mimetype": "text/x-kotlin",
   "file_extension": ".kt",
   "pygments_lexer": "kotlin",
   "codemirror_mode": "text/x-kotlin",
   "nbconvert_exporter": ""
  },
  "ktnbPluginMetadata": {
   "projectDependencies": true
  }
 },
 "nbformat": 4,
 "nbformat_minor": 0
}
